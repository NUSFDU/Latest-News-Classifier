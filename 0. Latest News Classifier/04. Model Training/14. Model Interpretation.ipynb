{
 "cells": [
  {
   "cell_type": "markdown",
   "metadata": {},
   "source": [
    "# Model Interpretation"
   ]
  },
  {
   "cell_type": "markdown",
   "metadata": {},
   "source": [
    "At this point we have selected the SVM as our preferred model to do the predictions. We will now study its behaviour by analyzing misclassified articles. Hopefully this will give us some insights on the way the model is working."
   ]
  },
  {
   "cell_type": "code",
   "execution_count": 1,
   "metadata": {},
   "outputs": [],
   "source": [
    "import pickle\n",
    "import pandas as pd\n",
    "import numpy as np\n",
    "import random"
   ]
  },
  {
   "cell_type": "markdown",
   "metadata": {},
   "source": [
    "Let's load what we need:"
   ]
  },
  {
   "cell_type": "code",
   "execution_count": 2,
   "metadata": {},
   "outputs": [],
   "source": [
    "import os\n",
    "cwd = os.getcwd()\n",
    "parent = os.path.dirname(cwd) # .../Latest-News-Classifier/0. Latest News Classifier\n",
    "\n",
    "\n",
    "# Dataframe\n",
    "path_df = parent + \"/03. Feature Engineering/Pickles/df.pickle\"\n",
    "with open(path_df, 'rb') as data:\n",
    "    df = pickle.load(data)\n",
    "    \n",
    "# X_train\n",
    "path_X_train = parent + \"/03. Feature Engineering/Pickles/X_train.pickle\"\n",
    "with open(path_X_train, 'rb') as data:\n",
    "    X_train = pickle.load(data)\n",
    "\n",
    "# X_test\n",
    "path_X_test = parent + \"/03. Feature Engineering/Pickles/X_test.pickle\"\n",
    "with open(path_X_test, 'rb') as data:\n",
    "    X_test = pickle.load(data)\n",
    "\n",
    "# y_train\n",
    "path_y_train = parent + \"/03. Feature Engineering/Pickles/y_train.pickle\"\n",
    "with open(path_y_train, 'rb') as data:\n",
    "    y_train = pickle.load(data)\n",
    "\n",
    "# y_test\n",
    "path_y_test = parent + \"/03. Feature Engineering/Pickles/y_test.pickle\"\n",
    "with open(path_y_test, 'rb') as data:\n",
    "    y_test = pickle.load(data)\n",
    "\n",
    "# features_train\n",
    "path_features_train = parent + \"/03. Feature Engineering/Pickles/features_train.pickle\"\n",
    "with open(path_features_train, 'rb') as data:\n",
    "    features_train = pickle.load(data)\n",
    "\n",
    "# labels_train\n",
    "path_labels_train = parent + \"/03. Feature Engineering/Pickles/labels_train.pickle\"\n",
    "with open(path_labels_train, 'rb') as data:\n",
    "    labels_train = pickle.load(data)\n",
    "\n",
    "# features_test\n",
    "path_features_test = parent + \"/03. Feature Engineering/Pickles/features_test.pickle\"\n",
    "with open(path_features_test, 'rb') as data:\n",
    "    features_test = pickle.load(data)\n",
    "\n",
    "# labels_test\n",
    "path_labels_test = parent + \"/03. Feature Engineering/Pickles/labels_test.pickle\"\n",
    "with open(path_labels_test, 'rb') as data:\n",
    "    labels_test = pickle.load(data)\n",
    "    \n",
    "# SVM Model\n",
    "path_model = parent + \"/04. Model Training/Models/best_svc.pickle\"\n",
    "with open(path_model, 'rb') as data:\n",
    "    svc_model = pickle.load(data)\n",
    "    \n",
    "# Category mapping dictionary\n",
    "category_codes = {\n",
    "    'business': 0,\n",
    "    'entertainment': 1,\n",
    "    'politics': 2,\n",
    "    'sport': 3,\n",
    "    'tech': 4\n",
    "}\n",
    "\n",
    "category_names = {\n",
    "    0: 'business',\n",
    "    1: 'entertainment',\n",
    "    2: 'politics',\n",
    "    3: 'sport',\n",
    "    4: 'tech'\n",
    "}"
   ]
  },
  {
   "cell_type": "markdown",
   "metadata": {},
   "source": [
    "Let's get the predictions on the test set:"
   ]
  },
  {
   "cell_type": "code",
   "execution_count": 3,
   "metadata": {},
   "outputs": [],
   "source": [
    "predictions = svc_model.predict(features_test)"
   ]
  },
  {
   "cell_type": "markdown",
   "metadata": {},
   "source": [
    "Now we'll create the Test Set dataframe with the actual and predicted categories:"
   ]
  },
  {
   "cell_type": "code",
   "execution_count": 4,
   "metadata": {},
   "outputs": [],
   "source": [
    "# Indexes of the test set\n",
    "index_X_test = X_test.index\n",
    "\n",
    "# We get them from the original df\n",
    "df_test = df.loc[index_X_test]\n",
    "\n",
    "# Add the predictions\n",
    "df_test['Prediction'] = predictions\n",
    "\n",
    "# Clean columns\n",
    "df_test = df_test[['Content', 'Category', 'Category_Code', 'Prediction']]\n",
    "\n",
    "# Decode\n",
    "df_test['Category_Predicted'] = df_test['Prediction']\n",
    "df_test = df_test.replace({'Category_Predicted':category_names})\n",
    "\n",
    "# Clean columns again\n",
    "df_test = df_test[['Content', 'Category', 'Category_Predicted']]"
   ]
  },
  {
   "cell_type": "code",
   "execution_count": 5,
   "metadata": {},
   "outputs": [
    {
     "data": {
      "text/html": [
       "<div>\n",
       "<style scoped>\n",
       "    .dataframe tbody tr th:only-of-type {\n",
       "        vertical-align: middle;\n",
       "    }\n",
       "\n",
       "    .dataframe tbody tr th {\n",
       "        vertical-align: top;\n",
       "    }\n",
       "\n",
       "    .dataframe thead th {\n",
       "        text-align: right;\n",
       "    }\n",
       "</style>\n",
       "<table border=\"1\" class=\"dataframe\">\n",
       "  <thead>\n",
       "    <tr style=\"text-align: right;\">\n",
       "      <th></th>\n",
       "      <th>Content</th>\n",
       "      <th>Category</th>\n",
       "      <th>Category_Predicted</th>\n",
       "    </tr>\n",
       "  </thead>\n",
       "  <tbody>\n",
       "    <tr>\n",
       "      <th>1691</th>\n",
       "      <td>Ireland call up uncapped Campbell\\n\\nUlster sc...</td>\n",
       "      <td>sport</td>\n",
       "      <td>sport</td>\n",
       "    </tr>\n",
       "    <tr>\n",
       "      <th>1103</th>\n",
       "      <td>Gurkhas to help tsunami victims\\n\\nBritain has...</td>\n",
       "      <td>politics</td>\n",
       "      <td>business</td>\n",
       "    </tr>\n",
       "    <tr>\n",
       "      <th>477</th>\n",
       "      <td>Egypt and Israel seal trade deal\\n\\nIn a sign ...</td>\n",
       "      <td>business</td>\n",
       "      <td>business</td>\n",
       "    </tr>\n",
       "    <tr>\n",
       "      <th>197</th>\n",
       "      <td>Cairn shares up on new oil find\\n\\nShares in C...</td>\n",
       "      <td>business</td>\n",
       "      <td>business</td>\n",
       "    </tr>\n",
       "    <tr>\n",
       "      <th>475</th>\n",
       "      <td>Saudi NCCI's shares soar\\n\\nShares in Saudi Ar...</td>\n",
       "      <td>business</td>\n",
       "      <td>business</td>\n",
       "    </tr>\n",
       "  </tbody>\n",
       "</table>\n",
       "</div>"
      ],
      "text/plain": [
       "                                                Content  Category  \\\n",
       "1691  Ireland call up uncapped Campbell\\n\\nUlster sc...     sport   \n",
       "1103  Gurkhas to help tsunami victims\\n\\nBritain has...  politics   \n",
       "477   Egypt and Israel seal trade deal\\n\\nIn a sign ...  business   \n",
       "197   Cairn shares up on new oil find\\n\\nShares in C...  business   \n",
       "475   Saudi NCCI's shares soar\\n\\nShares in Saudi Ar...  business   \n",
       "\n",
       "     Category_Predicted  \n",
       "1691              sport  \n",
       "1103           business  \n",
       "477            business  \n",
       "197            business  \n",
       "475            business  "
      ]
     },
     "execution_count": 5,
     "metadata": {},
     "output_type": "execute_result"
    }
   ],
   "source": [
    "df_test.head()"
   ]
  },
  {
   "cell_type": "markdown",
   "metadata": {},
   "source": [
    "Let's get the misclassified articles:"
   ]
  },
  {
   "cell_type": "code",
   "execution_count": 6,
   "metadata": {},
   "outputs": [
    {
     "data": {
      "text/html": [
       "<div>\n",
       "<style scoped>\n",
       "    .dataframe tbody tr th:only-of-type {\n",
       "        vertical-align: middle;\n",
       "    }\n",
       "\n",
       "    .dataframe tbody tr th {\n",
       "        vertical-align: top;\n",
       "    }\n",
       "\n",
       "    .dataframe thead th {\n",
       "        text-align: right;\n",
       "    }\n",
       "</style>\n",
       "<table border=\"1\" class=\"dataframe\">\n",
       "  <thead>\n",
       "    <tr style=\"text-align: right;\">\n",
       "      <th></th>\n",
       "      <th>Content</th>\n",
       "      <th>Category</th>\n",
       "      <th>Category_Predicted</th>\n",
       "    </tr>\n",
       "  </thead>\n",
       "  <tbody>\n",
       "    <tr>\n",
       "      <th>1103</th>\n",
       "      <td>Gurkhas to help tsunami victims\\n\\nBritain has...</td>\n",
       "      <td>politics</td>\n",
       "      <td>business</td>\n",
       "    </tr>\n",
       "    <tr>\n",
       "      <th>1942</th>\n",
       "      <td>Argonaut founder rebuilds empire\\n\\nJez San, t...</td>\n",
       "      <td>tech</td>\n",
       "      <td>business</td>\n",
       "    </tr>\n",
       "    <tr>\n",
       "      <th>1880</th>\n",
       "      <td>Half-Life 2 sweeps Bafta awards\\n\\nPC first pe...</td>\n",
       "      <td>tech</td>\n",
       "      <td>entertainment</td>\n",
       "    </tr>\n",
       "  </tbody>\n",
       "</table>\n",
       "</div>"
      ],
      "text/plain": [
       "                                                Content  Category  \\\n",
       "1103  Gurkhas to help tsunami victims\\n\\nBritain has...  politics   \n",
       "1942  Argonaut founder rebuilds empire\\n\\nJez San, t...      tech   \n",
       "1880  Half-Life 2 sweeps Bafta awards\\n\\nPC first pe...      tech   \n",
       "\n",
       "     Category_Predicted  \n",
       "1103           business  \n",
       "1942           business  \n",
       "1880      entertainment  "
      ]
     },
     "execution_count": 6,
     "metadata": {},
     "output_type": "execute_result"
    }
   ],
   "source": [
    "condition = (df_test['Category'] != df_test['Category_Predicted'])\n",
    "\n",
    "df_misclassified = df_test[condition]\n",
    "\n",
    "df_misclassified.head(3)"
   ]
  },
  {
   "cell_type": "markdown",
   "metadata": {},
   "source": [
    "Let's get a sample of 3 articles. We'll define a function to make this process faster:"
   ]
  },
  {
   "cell_type": "code",
   "execution_count": 7,
   "metadata": {},
   "outputs": [],
   "source": [
    "def output_article(row_article):\n",
    "    print('Actual Category: %s' %(row_article['Category']))\n",
    "    print('Predicted Category: %s' %(row_article['Category_Predicted']))\n",
    "    print('-------------------------------------------')\n",
    "    print('Text: ')\n",
    "    print('%s' %(row_article['Content']))"
   ]
  },
  {
   "cell_type": "markdown",
   "metadata": {},
   "source": [
    "We'll get three random numbers from the indexes:"
   ]
  },
  {
   "cell_type": "code",
   "execution_count": 12,
   "metadata": {},
   "outputs": [
    {
     "data": {
      "text/plain": [
       "[627, 640, 1880]"
      ]
     },
     "execution_count": 12,
     "metadata": {},
     "output_type": "execute_result"
    }
   ],
   "source": [
    "random.seed(1)\n",
    "list_samples = random.sample(list(df_misclassified.index), 3)\n",
    "list_samples"
   ]
  },
  {
   "cell_type": "markdown",
   "metadata": {},
   "source": [
    "First case:"
   ]
  },
  {
   "cell_type": "code",
   "execution_count": 13,
   "metadata": {
    "scrolled": false
   },
   "outputs": [
    {
     "name": "stdout",
     "output_type": "stream",
     "text": [
      "Actual Category: entertainment\n",
      "Predicted Category: sport\n",
      "-------------------------------------------\n",
      "Text: \n",
      "REM concerts blighted by illness\n",
      "\n",
      "US rock band REM have been forced to cancel concerts after bass player Mike Mills was taken to hospital suffering from \"severe flu-like symptoms\".\n",
      "\n",
      "The band were forced to cut short Monday night's show in Sheffield, and have cancelled Tuesday's Glasgow date. Mills could \"hardly stand up, let alone play\", said an REM spokesman, who added he is now \"resting\" in hospital. The remainder of the band played a short acoustic set on Monday. Tuesday's gig has been rescheduled for 15 June. Those who had a ticket for the show in Glasgow are being advised to retain their ticket stub so they can attend the new date. The band's spokesman said that they would review their remaining dates on a \"day-to-day basis\", based on doctors' advice to Mills. \"Obviously we all want Mike to get better, and clearly we all want to play the shows. Rest assured we will do so as soon as possible,\" he said.\n",
      "\n",
      "The band were still hopeful they would be able to make their Wednesday date, added the spokesman. REM played accoustic versions of their hits Losing My Religion, I've Been High, Leaving New York and The One I Love to the Sheffield Arena audience on Monday. The band had originally been scheduled to play four dates in the UK as part of a world tour. In 1995 former drummer Bill Berry collapsed in Switzerland while the band was on tour, having suffered a ruptured aneurysm. He made a full recovery, only to leave the band two years later.\n"
     ]
    }
   ],
   "source": [
    "output_article(df_misclassified.loc[list_samples[0]])"
   ]
  },
  {
   "cell_type": "markdown",
   "metadata": {},
   "source": [
    "Second case:"
   ]
  },
  {
   "cell_type": "code",
   "execution_count": 14,
   "metadata": {},
   "outputs": [
    {
     "name": "stdout",
     "output_type": "stream",
     "text": [
      "Actual Category: entertainment\n",
      "Predicted Category: politics\n",
      "-------------------------------------------\n",
      "Text: \n",
      "Franz man seeks government help\n",
      "\n",
      "Franz Ferdinand frontman Alex Kapranos has called for more government help for musicians, while taking part in an Edinburgh Lectures discussion.\n",
      "\n",
      "\"For any cultural output to thrive there needs to be some kind of state input to that as well,\" he said. But Kapranos warned against musicians being too closely linked with MPs, at the University of Edinburgh event. \"I think the role of musicians is to question politicians rather than to go to bed with them,\" he said.\n",
      "\n",
      "Kapranos joined the prestigious lecture series to discuss Scotland's role in making 21st Century music. \"There are elements of our musical output which require sustenance because they aren't self-sufficient,\" he said. \"But so-called commercial music would benefit from investment as well.\" He warned musicians against being allied to a particular party, however. \"I don't know if having tea with politicians is always a good idea.\"\n",
      "\n",
      "Kapranos and his Glasgow four-piece band have been nominated for five prizes at next week's Brit Awards, including best group and best album. Their self-titled debut album won last year's Mercury Music Prize and spawned three top 20 singles. He told the 300-strong audience at the University's Reid Hall that musicians should listen to a wide range of music and should not be restricted by stereotypes. \"We say 'I like this'. Because I listen to Nirvana and Korn I am a troubled individual, I'm riddled with angst because I listen to Chopin and Debussy, I listen to Kylie Minogue and Scissor Sisters because I'm upbeat and I like to party, I listen to Wagner because I like the smell of napalm in the morning.\" Kapranos said there was a general \"hostility\" towards classical music, adding: \"There is very little done to break that hostility other than Classic FM.\"\n",
      "\n",
      "He concluded: \"We define ourselves as a nation by the way we encourage our creativity.\" Fellow speaker and classical composer James MacMillan agreed: \"We need to rediscover our ability to listen.\" Previous speakers at the Edinburgh Lectures series have included former Soviet leader Mikhail Gorbachev and author Professor Stephen Hawking. Kapranos described his appearance on Wednesday as \"more daunting by a long way\" than their upcoming Brits performance. \"I don't really care about the Brits,\" he said. \"It's going to be great to go down but I have actually had to exercise part of my brain tonight.\"\n",
      "\n",
      "I think the government should do more to help up-and-coming artists be discovered by scrapping the entertainment licences for live venues. Also they should do more to help independent record labels have a louder voice within an industry dominated by commercialised major labels.\n",
      "\n",
      "Rather than expecting the government - i.e. the taxpayer - to fork out, why don't some of the megastars put something back in? Some of Britain's wealthiest people are musicians who have raked it in from albums, concerts etc. There are far more important demands on government funds.\n",
      "\n",
      "If they can fund football, why not fund music?\n",
      "\n",
      "Areas of the arts are funded by government and lottery grants, so why not music? We already have the opera receiving huge grants and it would clearly be beneficial for diversity in music to have the same opportunities in other areas of the music. The only problem would be how to judge what merits state cash.\n",
      "\n",
      "The government has enough problems funding schools and health services. If Alex Kapranos genuinely thinks a multi-billion pound industry should also have government funding then his own education was seriously lacking and more money should be put into that.\n",
      "\n",
      "As a Scot living in England, I appreciate the value of Scottish music and culture being a success, so I can see no problem with it! Franz Ferdinand, Travis and Snow Patrol are just recent examples of the success Scottish music can have in the world, so we should do what we Scots are good at and support our own goods!\n",
      "\n",
      "I think the issue is more fundamental: should the government be spending money on subsidising a multi-million pound industry when health and education are in such a sorry state? The answer is most definitely no. Those people who are lucky enough to pursue their passion to get their pay cheque shouldn't be looking for government subsidies. I know that if I was lucky enough to be able to pursue my dream of show jumping I would want to finance myself until I was in a position to pursue corporate sponsorship.\n",
      "\n",
      "Yes the government should fund music - it brings joy to the masses.\n",
      "\n",
      "There are already thousands of state-funded musicians out there sitting around, twiddling their thumbs on the \"new deal\". Getting the government even more involved would only waste money that could be put to better use.\n",
      "\n",
      "As long as the Government was funding real talent it would be a great move. I would hate to see more Pop Idol-type funding of music though, as it would only serve to reinforce the stereotypes that Alex talked about.\n",
      "\n",
      "Only if the proposals make financial sense. Franz Ferdinand must be paying serious amounts of tax on their record sales - if they'd had a government grant to get started they'd have more than paid it back by now, so the Treasury would be making far more than it paid out. However, the government has better things to spend its money on than to give charity to everyone who decides they're a musician. The government shouldn't \"fund\" music - it should \"invest\" in music and those investments should be treated like any other investment.\n",
      "\n",
      "I think the government needs to provide facilities and for young groups and bands to form and practise. The equipment is not cheap and can be well beyond the means of many people. However, I do feel this should be the extent of their role, to provide the conditions for the talent to flourish and let it go from there.\n",
      "\n",
      "I do agree that the government should help to fund music but there is also a responsibility held by record companies! They generally always opt for the tried and tested and tend not to want to break any moulds or risk losing any money which ultimately, the directors are in the business for! If labels were more willing to put money forward towards smaller breakthrough acts then the government wouldn't have to fork out a great deal.\n",
      "\n",
      "Yeah, why not? Music should be government funded, particularly the work of modern composers and veteran bands/artists and stuff. Pop music pretty much rules the earth, so more attention should go to the other fraternities\n",
      "\n",
      "I agree with funding the arts to make it more accessible to the public but I am not convinced that pop music requires financial support from the taxpayer. There is a great deal of money generated through pop music - perhaps a tax on pop could be ploughed into the public performance of other forms of music for everyone to enjoy. Perhaps we could financially penalise really bad Pop Idol-style music - that is, the music industry sector without any artistic merit or originality whatsoever and that which is specifically designed to line the pockets of music producers. Call it a tax on music \"pollution\", if you like.\n",
      "\n",
      "Though I really like Franz Ferdinand, I have to disagree with Mr Kapranos. Once government gets their hand into the private sector, it will destroy the creative and possibly controversial avenues the artist pursues. Many years ago, this was the case with the US NEA, when the government started to question what was considered art for the money they were allotting. The solution Mr Kapranos should pursue would be privately-funded organizations, like Save the Music in the US.\n"
     ]
    }
   ],
   "source": [
    "output_article(df_misclassified.loc[list_samples[1]])"
   ]
  },
  {
   "cell_type": "markdown",
   "metadata": {},
   "source": [
    "Third case:"
   ]
  },
  {
   "cell_type": "code",
   "execution_count": 15,
   "metadata": {},
   "outputs": [
    {
     "name": "stdout",
     "output_type": "stream",
     "text": [
      "Actual Category: tech\n",
      "Predicted Category: entertainment\n",
      "-------------------------------------------\n",
      "Text: \n",
      "Half-Life 2 sweeps Bafta awards\n",
      "\n",
      "PC first person shooter Half-Life 2 has won six Bafta Awards, including best game and best online game.\n",
      "\n",
      "The title, developed by Valve, was released last year to universal acclaim - receiving special praise for its immersive plot and physics engine. The game also won Baftas for best action adventure, best PC game, art direction and animation. Burnout 3 won three awards in the categories for racing, technical direction and best PlayStation 2 game. Grant Dean, chairman of the Bafta games awards, said at a ceremony in London on Tuesday: \"The last year has been a great year for the interactive entertainment industry.\n",
      "\n",
      "\"These awards reflect the enormous achievements, progress and diversity that we have seen in that time.\" Halo 2 won the best Xbox game category, while Prince of Persia: Warrior Within was adjudged the best GameCube title. The sports award went to Konami's Pro Evolution Soccer 4. Bafta said the \"significant feature\" of this year's awards was the number of \"non-traditional games\". The originality award was won by PlayStation 2 title Singstar while the children's award went to GameCube bongo rhythm game Donkey Konga. The Handheld Award went to Colin McRae Rally 2005 while the mobile category was won by Blue Tooth Byplanes. The audio award was won by Call of Duty: Finest Hour and Hitman: Contracts won the music award.\n"
     ]
    }
   ],
   "source": [
    "output_article(df_misclassified.loc[list_samples[2]])"
   ]
  },
  {
   "cell_type": "markdown",
   "metadata": {},
   "source": [
    "We can see that in all cases the category is not 100% clear, since these articles contain concepts of both categories. These errors will always happen and we are not looking forward to be 100% accurate on them."
   ]
  }
 ],
 "metadata": {
  "kernelspec": {
   "display_name": "Python 3",
   "language": "python",
   "name": "python3"
  },
  "language_info": {
   "codemirror_mode": {
    "name": "ipython",
    "version": 3
   },
   "file_extension": ".py",
   "mimetype": "text/x-python",
   "name": "python",
   "nbconvert_exporter": "python",
   "pygments_lexer": "ipython3",
   "version": "3.6.8"
  }
 },
 "nbformat": 4,
 "nbformat_minor": 2
}
