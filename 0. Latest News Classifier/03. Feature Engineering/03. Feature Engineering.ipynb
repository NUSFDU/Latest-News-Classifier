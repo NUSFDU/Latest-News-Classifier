{
 "cells": [
  {
   "cell_type": "markdown",
   "metadata": {},
   "source": [
    "# Feature Engineering"
   ]
  },
  {
   "cell_type": "markdown",
   "metadata": {},
   "source": [
    "The next step is to create features from the raw text so we can train the machine learning models. The steps followed are:\n",
    "\n",
    "1. **Text Cleaning and Preparation**: cleaning of special characters, downcasing, punctuation signs. possessive pronouns and stop words removal and lemmatization. \n",
    "2. **Label coding**: creation of a dictionary to map each category to a code.\n",
    "3. **Train-test split**: to test the models on unseen data.\n",
    "4. **Text representation**: use of TF-IDF scores to represent text."
   ]
  },
  {
   "cell_type": "code",
   "execution_count": 1,
   "metadata": {},
   "outputs": [],
   "source": [
    "import pickle\n",
    "import pandas as pd\n",
    "import re\n",
    "import nltk\n",
    "from nltk.corpus import stopwords\n",
    "from nltk.stem import WordNetLemmatizer\n",
    "from sklearn.feature_extraction.text import TfidfVectorizer\n",
    "from sklearn.model_selection import train_test_split\n",
    "from sklearn.feature_selection import chi2\n",
    "import numpy as np\n",
    "\n",
    "import os\n",
    "cwd = os.getcwd()\n",
    "parent = os.path.dirname(cwd) # .../Latest-News-Classifier/0. Latest News Classifier"
   ]
  },
  {
   "cell_type": "markdown",
   "metadata": {},
   "source": [
    "First of all we'll load the dataset:"
   ]
  },
  {
   "cell_type": "code",
   "execution_count": 2,
   "metadata": {},
   "outputs": [],
   "source": [
    "path_df = parent + \"/02. Exploratory Data Analysis/News_dataset.pickle\"\n",
    "\n",
    "with open(path_df, 'rb') as data:\n",
    "    df = pickle.load(data)"
   ]
  },
  {
   "cell_type": "code",
   "execution_count": 3,
   "metadata": {},
   "outputs": [
    {
     "data": {
      "text/html": [
       "<div>\n",
       "<style scoped>\n",
       "    .dataframe tbody tr th:only-of-type {\n",
       "        vertical-align: middle;\n",
       "    }\n",
       "\n",
       "    .dataframe tbody tr th {\n",
       "        vertical-align: top;\n",
       "    }\n",
       "\n",
       "    .dataframe thead th {\n",
       "        text-align: right;\n",
       "    }\n",
       "</style>\n",
       "<table border=\"1\" class=\"dataframe\">\n",
       "  <thead>\n",
       "    <tr style=\"text-align: right;\">\n",
       "      <th></th>\n",
       "      <th>File_Name</th>\n",
       "      <th>Content</th>\n",
       "      <th>Category</th>\n",
       "      <th>Complete_Filename</th>\n",
       "      <th>id</th>\n",
       "      <th>News_length</th>\n",
       "    </tr>\n",
       "  </thead>\n",
       "  <tbody>\n",
       "    <tr>\n",
       "      <th>0</th>\n",
       "      <td>001.txt</td>\n",
       "      <td>Ad sales boost Time Warner profit\\n\\nQuarterly...</td>\n",
       "      <td>business</td>\n",
       "      <td>001.txt-business</td>\n",
       "      <td>1</td>\n",
       "      <td>2559</td>\n",
       "    </tr>\n",
       "    <tr>\n",
       "      <th>1</th>\n",
       "      <td>002.txt</td>\n",
       "      <td>Dollar gains on Greenspan speech\\n\\nThe dollar...</td>\n",
       "      <td>business</td>\n",
       "      <td>002.txt-business</td>\n",
       "      <td>1</td>\n",
       "      <td>2251</td>\n",
       "    </tr>\n",
       "    <tr>\n",
       "      <th>2</th>\n",
       "      <td>003.txt</td>\n",
       "      <td>Yukos unit buyer faces loan claim\\n\\nThe owner...</td>\n",
       "      <td>business</td>\n",
       "      <td>003.txt-business</td>\n",
       "      <td>1</td>\n",
       "      <td>1551</td>\n",
       "    </tr>\n",
       "    <tr>\n",
       "      <th>3</th>\n",
       "      <td>004.txt</td>\n",
       "      <td>High fuel prices hit BA's profits\\n\\nBritish A...</td>\n",
       "      <td>business</td>\n",
       "      <td>004.txt-business</td>\n",
       "      <td>1</td>\n",
       "      <td>2411</td>\n",
       "    </tr>\n",
       "    <tr>\n",
       "      <th>4</th>\n",
       "      <td>005.txt</td>\n",
       "      <td>Pernod takeover talk lifts Domecq\\n\\nShares in...</td>\n",
       "      <td>business</td>\n",
       "      <td>005.txt-business</td>\n",
       "      <td>1</td>\n",
       "      <td>1569</td>\n",
       "    </tr>\n",
       "  </tbody>\n",
       "</table>\n",
       "</div>"
      ],
      "text/plain": [
       "  File_Name                                            Content  Category  \\\n",
       "0   001.txt  Ad sales boost Time Warner profit\\n\\nQuarterly...  business   \n",
       "1   002.txt  Dollar gains on Greenspan speech\\n\\nThe dollar...  business   \n",
       "2   003.txt  Yukos unit buyer faces loan claim\\n\\nThe owner...  business   \n",
       "3   004.txt  High fuel prices hit BA's profits\\n\\nBritish A...  business   \n",
       "4   005.txt  Pernod takeover talk lifts Domecq\\n\\nShares in...  business   \n",
       "\n",
       "  Complete_Filename  id  News_length  \n",
       "0  001.txt-business   1         2559  \n",
       "1  002.txt-business   1         2251  \n",
       "2  003.txt-business   1         1551  \n",
       "3  004.txt-business   1         2411  \n",
       "4  005.txt-business   1         1569  "
      ]
     },
     "execution_count": 3,
     "metadata": {},
     "output_type": "execute_result"
    }
   ],
   "source": [
    "df.head()"
   ]
  },
  {
   "cell_type": "markdown",
   "metadata": {},
   "source": [
    "And visualize one sample news content:"
   ]
  },
  {
   "cell_type": "code",
   "execution_count": 4,
   "metadata": {},
   "outputs": [
    {
     "data": {
      "text/plain": [
       "'Dollar gains on Greenspan speech\\n\\nThe dollar has hit its highest level against the euro in almost three months after the Federal Reserve head said the US trade deficit is set to stabilise.\\n\\nAnd Alan Greenspan highlighted the US government\\'s willingness to curb spending and rising household savings as factors which may help to reduce it. In late trading in New York, the dollar reached $1.2871 against the euro, from $1.2974 on Thursday. Market concerns about the deficit has hit the greenback in recent months. On Friday, Federal Reserve chairman Mr Greenspan\\'s speech in London ahead of the meeting of G7 finance ministers sent the dollar higher after it had earlier tumbled on the back of worse-than-expected US jobs data. \"I think the chairman\\'s taking a much more sanguine view on the current account deficit than he\\'s taken for some time,\" said Robert Sinche, head of currency strategy at Bank of America in New York. \"He\\'s taking a longer-term view, laying out a set of conditions under which the current account deficit can improve this year and next.\"\\n\\nWorries about the deficit concerns about China do, however, remain. China\\'s currency remains pegged to the dollar and the US currency\\'s sharp falls in recent months have therefore made Chinese export prices highly competitive. But calls for a shift in Beijing\\'s policy have fallen on deaf ears, despite recent comments in a major Chinese newspaper that the \"time is ripe\" for a loosening of the peg. The G7 meeting is thought unlikely to produce any meaningful movement in Chinese policy. In the meantime, the US Federal Reserve\\'s decision on 2 February to boost interest rates by a quarter of a point - the sixth such move in as many months - has opened up a differential with European rates. The half-point window, some believe, could be enough to keep US assets looking more attractive, and could help prop up the dollar. The recent falls have partly been the result of big budget deficits, as well as the US\\'s yawning current account gap, both of which need to be funded by the buying of US bonds and assets by foreign firms and governments. The White House will announce its budget on Monday, and many commentators believe the deficit will remain at close to half a trillion dollars.'"
      ]
     },
     "execution_count": 4,
     "metadata": {},
     "output_type": "execute_result"
    }
   ],
   "source": [
    "df.loc[1]['Content']"
   ]
  },
  {
   "cell_type": "markdown",
   "metadata": {},
   "source": [
    "## 1. Text cleaning and preparation"
   ]
  },
  {
   "cell_type": "markdown",
   "metadata": {},
   "source": [
    "### 1.1. Special character cleaning\n",
    "\n",
    "We can see the following special characters:\n",
    "\n",
    "* ``\\r``\n",
    "* ``\\n``\n",
    "* ``\\`` before possessive pronouns (`government's = government\\'s`)\n",
    "* ``\\`` before possessive pronouns 2 (`Yukos'` = `Yukos\\'`)\n",
    "* ``\"`` when quoting text"
   ]
  },
  {
   "cell_type": "code",
   "execution_count": 5,
   "metadata": {},
   "outputs": [],
   "source": [
    "# \\r and \\n\n",
    "df['Content_Parsed_1'] = df['Content'].str.replace(\"\\r\", \" \")\n",
    "df['Content_Parsed_1'] = df['Content_Parsed_1'].str.replace(\"\\n\", \" \")\n",
    "df['Content_Parsed_1'] = df['Content_Parsed_1'].str.replace(\"    \", \" \")"
   ]
  },
  {
   "cell_type": "markdown",
   "metadata": {},
   "source": [
    "Regarding 3rd and 4th bullet, although it seems there is a special character, it won't affect us since it is not a *real* character:"
   ]
  },
  {
   "cell_type": "code",
   "execution_count": 6,
   "metadata": {},
   "outputs": [
    {
     "data": {
      "text/plain": [
       "\"Mr Greenspan's\""
      ]
     },
     "execution_count": 6,
     "metadata": {},
     "output_type": "execute_result"
    }
   ],
   "source": [
    "text = \"Mr Greenspan\\'s\"\n",
    "text"
   ]
  },
  {
   "cell_type": "markdown",
   "metadata": {},
   "source": [
    "To show the raw special charater of ``\\'``, specify the string type ``r``."
   ]
  },
  {
   "cell_type": "code",
   "execution_count": 7,
   "metadata": {},
   "outputs": [
    {
     "name": "stdout",
     "output_type": "stream",
     "text": [
      "Mr Greenspan\\'s\n",
      "\"Mr Greenspan\\\\'s\"\n"
     ]
    }
   ],
   "source": [
    "print(r\"Mr Greenspan\\'s\")\n",
    "print(repr(r\"Mr Greenspan\\'s\"))"
   ]
  },
  {
   "cell_type": "code",
   "execution_count": 8,
   "metadata": {},
   "outputs": [],
   "source": [
    "# \" when quoting text\n",
    "df['Content_Parsed_1'] = df['Content_Parsed_1'].str.replace('\"', '')"
   ]
  },
  {
   "cell_type": "markdown",
   "metadata": {},
   "source": [
    "Visualize the strings afer removing these special characters:"
   ]
  },
  {
   "cell_type": "code",
   "execution_count": 9,
   "metadata": {},
   "outputs": [
    {
     "data": {
      "text/plain": [
       "\"Dollar gains on Greenspan speech  The dollar has hit its highest level against the euro in almost three months after the Federal Reserve head said the US trade deficit is set to stabilise.  And Alan Greenspan highlighted the US government's willingness to curb spending and rising household savings as factors which may help to reduce it. In late trading in New York, the dollar reached $1.2871 against the euro, from $1.2974 on Thursday. Market concerns about the deficit has hit the greenback in recent months. On Friday, Federal Reserve chairman Mr Greenspan's speech in London ahead of the meeting of G7 finance ministers sent the dollar higher after it had earlier tumbled on the back of worse-than-expected US jobs data. I think the chairman's taking a much more sanguine view on the current account deficit than he's taken for some time, said Robert Sinche, head of currency strategy at Bank of America in New York. He's taking a longer-term view, laying out a set of conditions under which the current account deficit can improve this year and next.  Worries about the deficit concerns about China do, however, remain. China's currency remains pegged to the dollar and the US currency's sharp falls in recent months have therefore made Chinese export prices highly competitive. But calls for a shift in Beijing's policy have fallen on deaf ears, despite recent comments in a major Chinese newspaper that the time is ripe for a loosening of the peg. The G7 meeting is thought unlikely to produce any meaningful movement in Chinese policy. In the meantime, the US Federal Reserve's decision on 2 February to boost interest rates by a quarter of a point - the sixth such move in as many months - has opened up a differential with European rates. The half-point window, some believe, could be enough to keep US assets looking more attractive, and could help prop up the dollar. The recent falls have partly been the result of big budget deficits, as well as the US's yawning current account gap, both of which need to be funded by the buying of US bonds and assets by foreign firms and governments. The White House will announce its budget on Monday, and many commentators believe the deficit will remain at close to half a trillion dollars.\""
      ]
     },
     "execution_count": 9,
     "metadata": {},
     "output_type": "execute_result"
    }
   ],
   "source": [
    "df.loc[1]['Content_Parsed_1']"
   ]
  },
  {
   "cell_type": "markdown",
   "metadata": {},
   "source": [
    "### 1.2. Upcase/downcase"
   ]
  },
  {
   "cell_type": "markdown",
   "metadata": {},
   "source": [
    "We'll downcase the texts because we want, for example, `Football` and `football` to be the same word."
   ]
  },
  {
   "cell_type": "code",
   "execution_count": 10,
   "metadata": {},
   "outputs": [],
   "source": [
    "# Lowercasing the text\n",
    "df['Content_Parsed_2'] = df['Content_Parsed_1'].str.lower()"
   ]
  },
  {
   "cell_type": "markdown",
   "metadata": {},
   "source": [
    "### 1.3. Punctuation signs"
   ]
  },
  {
   "cell_type": "markdown",
   "metadata": {},
   "source": [
    "Punctuation signs won't have any predicting power, so we'll just get rid of them."
   ]
  },
  {
   "cell_type": "code",
   "execution_count": 11,
   "metadata": {},
   "outputs": [],
   "source": [
    "punctuation_signs = list(\"?:!.,;\")\n",
    "df['Content_Parsed_3'] = df['Content_Parsed_2']\n",
    "\n",
    "for punct_sign in punctuation_signs:\n",
    "    df['Content_Parsed_3'] = df['Content_Parsed_3'].str.replace(punct_sign, '')"
   ]
  },
  {
   "cell_type": "markdown",
   "metadata": {},
   "source": [
    "By doing this we are messing up with some numbers, but it's no problem since we aren't expecting any predicting power from them."
   ]
  },
  {
   "cell_type": "markdown",
   "metadata": {},
   "source": [
    "### 1.4. Possessive pronouns"
   ]
  },
  {
   "cell_type": "markdown",
   "metadata": {},
   "source": [
    "We'll also remove possessive pronoun terminations:"
   ]
  },
  {
   "cell_type": "code",
   "execution_count": 12,
   "metadata": {},
   "outputs": [],
   "source": [
    "df['Content_Parsed_4'] = df['Content_Parsed_3'].str.replace(\"'s\", \"\")"
   ]
  },
  {
   "cell_type": "markdown",
   "metadata": {},
   "source": [
    "### 1.5. Stemming and Lemmatization\n",
    "\n",
    "Since stemming can produce output words that don't exist, we'll only use a lemmatization process at this moment. Lemmatization takes into consideration the morphological analysis of the words and returns words that do exist, so it will be more useful for us."
   ]
  },
  {
   "cell_type": "code",
   "execution_count": null,
   "metadata": {},
   "outputs": [],
   "source": [
    "# Downloading punkt and wordnet from NLTK\n",
    "nltk.download('punkt')\n",
    "print(\"------------------------------------------------------------\")\n",
    "nltk.download('wordnet')"
   ]
  },
  {
   "cell_type": "code",
   "execution_count": 13,
   "metadata": {},
   "outputs": [],
   "source": [
    "# Saving the lemmatizer into an object\n",
    "wordnet_lemmatizer = WordNetLemmatizer()"
   ]
  },
  {
   "cell_type": "markdown",
   "metadata": {},
   "source": [
    "In order to lemmatize, we have to iterate through every word. The wordnet_lemmatizer treats each word as a verb, under ``pos=\"V\"``. Reference [link](https://stackoverflow.com/questions/25534214/nltk-wordnet-lemmatizer-shouldnt-it-lemmatize-all-inflections-of-a-word)."
   ]
  },
  {
   "cell_type": "code",
   "execution_count": 14,
   "metadata": {},
   "outputs": [],
   "source": [
    "df['Content_Parsed_5'] = df['Content_Parsed_4'].apply(lambda s : ' '.join([wordnet_lemmatizer.lemmatize(word, pos=\"v\") for word in s.split()]))"
   ]
  },
  {
   "cell_type": "code",
   "execution_count": 15,
   "metadata": {},
   "outputs": [],
   "source": [
    "# default lemmatizer treats each word as a noun\n",
    "df['Content_Parsed_5'] = df['Content_Parsed_5'].apply(lambda s : ' '.join([wordnet_lemmatizer.lemmatize(word) for word in s.split()]))"
   ]
  },
  {
   "cell_type": "markdown",
   "metadata": {},
   "source": [
    "Previously, the lemmatization was implemented through explicit for loops"
   ]
  },
  {
   "cell_type": "code",
   "execution_count": null,
   "metadata": {},
   "outputs": [],
   "source": [
    "# nrows = len(df)\n",
    "# lemmatized_text_list = []\n",
    "\n",
    "# for row in range(0, nrows):\n",
    "    \n",
    "#     # Create an empty list containing lemmatized words\n",
    "#     lemmatized_list = []\n",
    "    \n",
    "#     # Save the text and its words into an object\n",
    "#     text = df.loc[row]['Content_Parsed_4']\n",
    "#     text_words = text.split(\" \")\n",
    "\n",
    "#     # Iterate through every word to lemmatize\n",
    "#     for word in text_words:\n",
    "#         lemmatized_list.append(wordnet_lemmatizer.lemmatize(word, pos=\"v\"))\n",
    "        \n",
    "#     # Join the list\n",
    "#     lemmatized_text = \" \".join(lemmatized_list)\n",
    "    \n",
    "#     # Append to the list containing the texts\n",
    "#     lemmatized_text_list.append(lemmatized_text)"
   ]
  },
  {
   "cell_type": "code",
   "execution_count": null,
   "metadata": {},
   "outputs": [],
   "source": [
    "# df['Content_Parsed_5'] = lemmatized_text_list"
   ]
  },
  {
   "cell_type": "markdown",
   "metadata": {},
   "source": [
    "Although lemmatization doesn't work perfectly in all cases (as can be seen in the example below), it can be useful."
   ]
  },
  {
   "cell_type": "markdown",
   "metadata": {},
   "source": [
    "### 1.6. Stop words"
   ]
  },
  {
   "cell_type": "code",
   "execution_count": null,
   "metadata": {},
   "outputs": [],
   "source": [
    "# Downloading the stop words list\n",
    "nltk.download('stopwords')"
   ]
  },
  {
   "cell_type": "code",
   "execution_count": 16,
   "metadata": {},
   "outputs": [],
   "source": [
    "# Loading the stop words in english\n",
    "stop_words = list(stopwords.words('english'))"
   ]
  },
  {
   "cell_type": "code",
   "execution_count": 17,
   "metadata": {},
   "outputs": [
    {
     "data": {
      "text/plain": [
       "['a',\n",
       " 'about',\n",
       " 'above',\n",
       " 'after',\n",
       " 'again',\n",
       " 'against',\n",
       " 'ain',\n",
       " 'all',\n",
       " 'am',\n",
       " 'an',\n",
       " 'and',\n",
       " 'any',\n",
       " 'are',\n",
       " 'aren',\n",
       " \"aren't\",\n",
       " 'as',\n",
       " 'at',\n",
       " 'be',\n",
       " 'because',\n",
       " 'been',\n",
       " 'before',\n",
       " 'being',\n",
       " 'below',\n",
       " 'between',\n",
       " 'both',\n",
       " 'but',\n",
       " 'by',\n",
       " 'can',\n",
       " 'couldn',\n",
       " \"couldn't\",\n",
       " 'd',\n",
       " 'did',\n",
       " 'didn',\n",
       " \"didn't\",\n",
       " 'do',\n",
       " 'does',\n",
       " 'doesn',\n",
       " \"doesn't\",\n",
       " 'doing',\n",
       " 'don',\n",
       " \"don't\",\n",
       " 'down',\n",
       " 'during',\n",
       " 'each',\n",
       " 'few',\n",
       " 'for',\n",
       " 'from',\n",
       " 'further',\n",
       " 'had',\n",
       " 'hadn',\n",
       " \"hadn't\",\n",
       " 'has',\n",
       " 'hasn',\n",
       " \"hasn't\",\n",
       " 'have',\n",
       " 'haven',\n",
       " \"haven't\",\n",
       " 'having',\n",
       " 'he',\n",
       " 'her',\n",
       " 'here',\n",
       " 'hers',\n",
       " 'herself',\n",
       " 'him',\n",
       " 'himself',\n",
       " 'his',\n",
       " 'how',\n",
       " 'i',\n",
       " 'if',\n",
       " 'in',\n",
       " 'into',\n",
       " 'is',\n",
       " 'isn',\n",
       " \"isn't\",\n",
       " 'it',\n",
       " \"it's\",\n",
       " 'its',\n",
       " 'itself',\n",
       " 'just',\n",
       " 'll',\n",
       " 'm',\n",
       " 'ma',\n",
       " 'me',\n",
       " 'mightn',\n",
       " \"mightn't\",\n",
       " 'more',\n",
       " 'most',\n",
       " 'mustn',\n",
       " \"mustn't\",\n",
       " 'my',\n",
       " 'myself',\n",
       " 'needn',\n",
       " \"needn't\",\n",
       " 'no',\n",
       " 'nor',\n",
       " 'not',\n",
       " 'now',\n",
       " 'o',\n",
       " 'of',\n",
       " 'off',\n",
       " 'on',\n",
       " 'once',\n",
       " 'only',\n",
       " 'or',\n",
       " 'other',\n",
       " 'our',\n",
       " 'ours',\n",
       " 'ourselves',\n",
       " 'out',\n",
       " 'over',\n",
       " 'own',\n",
       " 're',\n",
       " 's',\n",
       " 'same',\n",
       " 'shan',\n",
       " \"shan't\",\n",
       " 'she',\n",
       " \"she's\",\n",
       " 'should',\n",
       " \"should've\",\n",
       " 'shouldn',\n",
       " \"shouldn't\",\n",
       " 'so',\n",
       " 'some',\n",
       " 'such',\n",
       " 't',\n",
       " 'than',\n",
       " 'that',\n",
       " \"that'll\",\n",
       " 'the',\n",
       " 'their',\n",
       " 'theirs',\n",
       " 'them',\n",
       " 'themselves',\n",
       " 'then',\n",
       " 'there',\n",
       " 'these',\n",
       " 'they',\n",
       " 'this',\n",
       " 'those',\n",
       " 'through',\n",
       " 'to',\n",
       " 'too',\n",
       " 'under',\n",
       " 'until',\n",
       " 'up',\n",
       " 've',\n",
       " 'very',\n",
       " 'was',\n",
       " 'wasn',\n",
       " \"wasn't\",\n",
       " 'we',\n",
       " 'were',\n",
       " 'weren',\n",
       " \"weren't\",\n",
       " 'what',\n",
       " 'when',\n",
       " 'where',\n",
       " 'which',\n",
       " 'while',\n",
       " 'who',\n",
       " 'whom',\n",
       " 'why',\n",
       " 'will',\n",
       " 'with',\n",
       " 'won',\n",
       " \"won't\",\n",
       " 'wouldn',\n",
       " \"wouldn't\",\n",
       " 'y',\n",
       " 'you',\n",
       " \"you'd\",\n",
       " \"you'll\",\n",
       " \"you're\",\n",
       " \"you've\",\n",
       " 'your',\n",
       " 'yours',\n",
       " 'yourself',\n",
       " 'yourselves']"
      ]
     },
     "execution_count": 17,
     "metadata": {},
     "output_type": "execute_result"
    }
   ],
   "source": [
    "sorted(stop_words)"
   ]
  },
  {
   "cell_type": "markdown",
   "metadata": {},
   "source": [
    "To remove the stop words, we'll handle a regular expression only detecting whole words, as seen in the following example:"
   ]
  },
  {
   "cell_type": "code",
   "execution_count": 18,
   "metadata": {
    "scrolled": true
   },
   "outputs": [
    {
     "data": {
      "text/plain": [
       "'StopWord eating a meal'"
      ]
     },
     "execution_count": 18,
     "metadata": {},
     "output_type": "execute_result"
    }
   ],
   "source": [
    "example = \"me eating a meal\"\n",
    "word = \"me\"\n",
    "\n",
    "# The regular expression is:\n",
    "regex = r\"\\b\" + word + r\"\\b\"  # we need to build it like that to work properly\n",
    "\n",
    "re.sub(regex, \"StopWord\", example)"
   ]
  },
  {
   "cell_type": "code",
   "execution_count": 19,
   "metadata": {},
   "outputs": [
    {
     "data": {
      "text/plain": [
       "True"
      ]
     },
     "execution_count": 19,
     "metadata": {},
     "output_type": "execute_result"
    }
   ],
   "source": [
    "regex == r\"\\b{}\\b\".format(word) # another way to build the regex"
   ]
  },
  {
   "cell_type": "markdown",
   "metadata": {},
   "source": [
    "We can now loop through all the stop words:"
   ]
  },
  {
   "cell_type": "code",
   "execution_count": 20,
   "metadata": {},
   "outputs": [
    {
     "data": {
      "text/plain": [
       "\"\\\\b(i|me|my|myself|we|our|ours|ourselves|you|you're|you've|you'll|you'd|your|yours|yourself|yourselves|he|him|his|himself|she|she's|her|hers|herself|it|it's|its|itself|they|them|their|theirs|themselves|what|which|who|whom|this|that|that'll|these|those|am|is|are|was|were|be|been|being|have|has|had|having|do|does|did|doing|a|an|the|and|but|if|or|because|as|until|while|of|at|by|for|with|about|against|between|into|through|during|before|after|above|below|to|from|up|down|in|out|on|off|over|under|again|further|then|once|here|there|when|where|why|how|all|any|both|each|few|more|most|other|some|such|no|nor|not|only|own|same|so|than|too|very|s|t|can|will|just|don|don't|should|should've|now|d|ll|m|o|re|ve|y|ain|aren|aren't|couldn|couldn't|didn|didn't|doesn|doesn't|hadn|hadn't|hasn|hasn't|haven|haven't|isn|isn't|ma|mightn|mightn't|mustn|mustn't|needn|needn't|shan|shan't|shouldn|shouldn't|wasn|wasn't|weren|weren't|won|won't|wouldn|wouldn't)\\\\b\""
      ]
     },
     "execution_count": 20,
     "metadata": {},
     "output_type": "execute_result"
    }
   ],
   "source": [
    "stop_word_regex = \"\\\\b(\" + \"|\".join(stop_words) + \")\\\\b\"\n",
    "stop_word_regex"
   ]
  },
  {
   "cell_type": "code",
   "execution_count": 21,
   "metadata": {},
   "outputs": [
    {
     "data": {
      "text/plain": [
       "\"StopWord'StopWord StopWord table StopWord StopWord StopWord StopWord StopWord eating StopWord meal\""
      ]
     },
     "execution_count": 21,
     "metadata": {},
     "output_type": "execute_result"
    }
   ],
   "source": [
    "re.sub(stop_word_regex, \"StopWord\", \"there's a table between you and me when eating a meal\")"
   ]
  },
  {
   "cell_type": "code",
   "execution_count": 22,
   "metadata": {},
   "outputs": [
    {
     "data": {
      "text/plain": [
       "\"there's a table between you and me when eating a meal\""
      ]
     },
     "execution_count": 22,
     "metadata": {},
     "output_type": "execute_result"
    }
   ],
   "source": [
    "\"there's a table between you and me when eating a meal\".replace(stop_word_regex, \"StopWord\")"
   ]
  },
  {
   "cell_type": "markdown",
   "metadata": {},
   "source": [
    "Pandas DataFrame.str.replace() can handle the ``str.replace()`` and ``re.sub()``"
   ]
  },
  {
   "cell_type": "code",
   "execution_count": 23,
   "metadata": {},
   "outputs": [],
   "source": [
    "df['Content_Parsed_6'] = df['Content_Parsed_5'].apply(lambda s : re.sub(stop_word_regex, '', s))\n",
    "## equivalent to ## df['Content_Parsed_5'].str.replace(stop_word_regex, '')"
   ]
  },
  {
   "cell_type": "markdown",
   "metadata": {},
   "source": [
    "We have some dobule/triple spaces between words because of the replacements. However, it's not a problem because we'll tokenize by the spaces later anyway. Here, the multiple spaces are deduplicated."
   ]
  },
  {
   "cell_type": "code",
   "execution_count": 24,
   "metadata": {},
   "outputs": [],
   "source": [
    "df['Content_Parsed_6'] = df['Content_Parsed_6'].apply(lambda s : re.sub('\\s+', ' ', s))\n",
    "## equivalent to ## df['Content_Parsed_6'].str.replace('\\s+', ' ')"
   ]
  },
  {
   "cell_type": "code",
   "execution_count": null,
   "metadata": {},
   "outputs": [],
   "source": [
    "# df['Content_Parsed_6'] = df['Content_Parsed_5']\n",
    "\n",
    "# for stop_word in stop_words:\n",
    "\n",
    "#     regex_stopword = r\"\\b\" + stop_word + r\"\\b\"\n",
    "#     df['Content_Parsed_6'] = df['Content_Parsed_6'].str.replace(regex_stopword, '')"
   ]
  },
  {
   "cell_type": "markdown",
   "metadata": {},
   "source": [
    "As an example, we'll show an original news article and its modifications throughout the process:"
   ]
  },
  {
   "cell_type": "code",
   "execution_count": 25,
   "metadata": {},
   "outputs": [
    {
     "data": {
      "text/plain": [
       "'Japan narrowly escapes recession\\n\\nJapan\\'s economy teetered on the brink of a technical recession in the three months to September, figures show.\\n\\nRevised figures indicated growth of just 0.1% - and a similar-sized contraction in the previous quarter. On an annual basis, the data suggests annual growth of just 0.2%, suggesting a much more hesitant recovery than had previously been thought. A common technical definition of a recession is two successive quarters of negative growth.\\n\\nThe government was keen to play down the worrying implications of the data. \"I maintain the view that Japan\\'s economy remains in a minor adjustment phase in an upward climb, and we will monitor developments carefully,\" said economy minister Heizo Takenaka. But in the face of the strengthening yen making exports less competitive and indications of weakening economic conditions ahead, observers were less sanguine. \"It\\'s painting a picture of a recovery... much patchier than previously thought,\" said Paul Sheard, economist at Lehman Brothers in Tokyo. Improvements in the job market apparently have yet to feed through to domestic demand, with private consumption up just 0.2% in the third quarter.'"
      ]
     },
     "execution_count": 25,
     "metadata": {},
     "output_type": "execute_result"
    }
   ],
   "source": [
    "df.loc[5]['Content']"
   ]
  },
  {
   "cell_type": "markdown",
   "metadata": {},
   "source": [
    "1. Special character cleaning"
   ]
  },
  {
   "cell_type": "code",
   "execution_count": 26,
   "metadata": {},
   "outputs": [
    {
     "data": {
      "text/plain": [
       "\"Japan narrowly escapes recession  Japan's economy teetered on the brink of a technical recession in the three months to September, figures show.  Revised figures indicated growth of just 0.1% - and a similar-sized contraction in the previous quarter. On an annual basis, the data suggests annual growth of just 0.2%, suggesting a much more hesitant recovery than had previously been thought. A common technical definition of a recession is two successive quarters of negative growth.  The government was keen to play down the worrying implications of the data. I maintain the view that Japan's economy remains in a minor adjustment phase in an upward climb, and we will monitor developments carefully, said economy minister Heizo Takenaka. But in the face of the strengthening yen making exports less competitive and indications of weakening economic conditions ahead, observers were less sanguine. It's painting a picture of a recovery... much patchier than previously thought, said Paul Sheard, economist at Lehman Brothers in Tokyo. Improvements in the job market apparently have yet to feed through to domestic demand, with private consumption up just 0.2% in the third quarter.\""
      ]
     },
     "execution_count": 26,
     "metadata": {},
     "output_type": "execute_result"
    }
   ],
   "source": [
    "df.loc[5]['Content_Parsed_1']"
   ]
  },
  {
   "cell_type": "markdown",
   "metadata": {},
   "source": [
    "2. Upcase/downcase"
   ]
  },
  {
   "cell_type": "code",
   "execution_count": 27,
   "metadata": {},
   "outputs": [
    {
     "data": {
      "text/plain": [
       "\"japan narrowly escapes recession  japan's economy teetered on the brink of a technical recession in the three months to september, figures show.  revised figures indicated growth of just 0.1% - and a similar-sized contraction in the previous quarter. on an annual basis, the data suggests annual growth of just 0.2%, suggesting a much more hesitant recovery than had previously been thought. a common technical definition of a recession is two successive quarters of negative growth.  the government was keen to play down the worrying implications of the data. i maintain the view that japan's economy remains in a minor adjustment phase in an upward climb, and we will monitor developments carefully, said economy minister heizo takenaka. but in the face of the strengthening yen making exports less competitive and indications of weakening economic conditions ahead, observers were less sanguine. it's painting a picture of a recovery... much patchier than previously thought, said paul sheard, economist at lehman brothers in tokyo. improvements in the job market apparently have yet to feed through to domestic demand, with private consumption up just 0.2% in the third quarter.\""
      ]
     },
     "execution_count": 27,
     "metadata": {},
     "output_type": "execute_result"
    }
   ],
   "source": [
    "df.loc[5]['Content_Parsed_2']"
   ]
  },
  {
   "cell_type": "markdown",
   "metadata": {},
   "source": [
    "3. Punctuation signs"
   ]
  },
  {
   "cell_type": "code",
   "execution_count": 28,
   "metadata": {},
   "outputs": [
    {
     "data": {
      "text/plain": [
       "\"japan narrowly escapes recession  japan's economy teetered on the brink of a technical recession in the three months to september figures show  revised figures indicated growth of just 01% - and a similar-sized contraction in the previous quarter on an annual basis the data suggests annual growth of just 02% suggesting a much more hesitant recovery than had previously been thought a common technical definition of a recession is two successive quarters of negative growth  the government was keen to play down the worrying implications of the data i maintain the view that japan's economy remains in a minor adjustment phase in an upward climb and we will monitor developments carefully said economy minister heizo takenaka but in the face of the strengthening yen making exports less competitive and indications of weakening economic conditions ahead observers were less sanguine it's painting a picture of a recovery much patchier than previously thought said paul sheard economist at lehman brothers in tokyo improvements in the job market apparently have yet to feed through to domestic demand with private consumption up just 02% in the third quarter\""
      ]
     },
     "execution_count": 28,
     "metadata": {},
     "output_type": "execute_result"
    }
   ],
   "source": [
    "df.loc[5]['Content_Parsed_3']"
   ]
  },
  {
   "cell_type": "markdown",
   "metadata": {},
   "source": [
    "4. Possessive pronouns"
   ]
  },
  {
   "cell_type": "code",
   "execution_count": 29,
   "metadata": {},
   "outputs": [
    {
     "data": {
      "text/plain": [
       "'japan narrowly escapes recession  japan economy teetered on the brink of a technical recession in the three months to september figures show  revised figures indicated growth of just 01% - and a similar-sized contraction in the previous quarter on an annual basis the data suggests annual growth of just 02% suggesting a much more hesitant recovery than had previously been thought a common technical definition of a recession is two successive quarters of negative growth  the government was keen to play down the worrying implications of the data i maintain the view that japan economy remains in a minor adjustment phase in an upward climb and we will monitor developments carefully said economy minister heizo takenaka but in the face of the strengthening yen making exports less competitive and indications of weakening economic conditions ahead observers were less sanguine it painting a picture of a recovery much patchier than previously thought said paul sheard economist at lehman brothers in tokyo improvements in the job market apparently have yet to feed through to domestic demand with private consumption up just 02% in the third quarter'"
      ]
     },
     "execution_count": 29,
     "metadata": {},
     "output_type": "execute_result"
    }
   ],
   "source": [
    "df.loc[5]['Content_Parsed_4']"
   ]
  },
  {
   "cell_type": "markdown",
   "metadata": {},
   "source": [
    "5. Stemming and Lemmatization"
   ]
  },
  {
   "cell_type": "code",
   "execution_count": 30,
   "metadata": {},
   "outputs": [
    {
     "data": {
      "text/plain": [
       "'japan narrowly escape recession japan economy teeter on the brink of a technical recession in the three month to september figure show revise figure indicate growth of just 01% - and a similar-sized contraction in the previous quarter on an annual basis the data suggest annual growth of just 02% suggest a much more hesitant recovery than have previously be think a common technical definition of a recession be two successive quarter of negative growth the government be keen to play down the worry implication of the data i maintain the view that japan economy remain in a minor adjustment phase in an upward climb and we will monitor development carefully say economy minister heizo takenaka but in the face of the strengthen yen make export le competitive and indication of weaken economic condition ahead observer be le sanguine it paint a picture of a recovery much patchier than previously think say paul sheard economist at lehman brother in tokyo improvement in the job market apparently have yet to fee through to domestic demand with private consumption up just 02% in the third quarter'"
      ]
     },
     "execution_count": 30,
     "metadata": {},
     "output_type": "execute_result"
    }
   ],
   "source": [
    "df.loc[5]['Content_Parsed_5']"
   ]
  },
  {
   "cell_type": "markdown",
   "metadata": {},
   "source": [
    "6. Stop words"
   ]
  },
  {
   "cell_type": "code",
   "execution_count": 31,
   "metadata": {},
   "outputs": [
    {
     "data": {
      "text/plain": [
       "'japan narrowly escape recession japan economy teeter brink technical recession three month september figure show revise figure indicate growth 01% - similar-sized contraction previous quarter annual basis data suggest annual growth 02% suggest much hesitant recovery previously think common technical definition recession two successive quarter negative growth government keen play worry implication data maintain view japan economy remain minor adjustment phase upward climb monitor development carefully say economy minister heizo takenaka face strengthen yen make export le competitive indication weaken economic condition ahead observer le sanguine paint picture recovery much patchier previously think say paul sheard economist lehman brother tokyo improvement job market apparently yet fee domestic demand private consumption 02% third quarter'"
      ]
     },
     "execution_count": 31,
     "metadata": {},
     "output_type": "execute_result"
    }
   ],
   "source": [
    "df.loc[5]['Content_Parsed_6']"
   ]
  },
  {
   "cell_type": "markdown",
   "metadata": {},
   "source": [
    "Finally, we can delete the intermediate columns:"
   ]
  },
  {
   "cell_type": "code",
   "execution_count": 32,
   "metadata": {},
   "outputs": [
    {
     "data": {
      "text/html": [
       "<div>\n",
       "<style scoped>\n",
       "    .dataframe tbody tr th:only-of-type {\n",
       "        vertical-align: middle;\n",
       "    }\n",
       "\n",
       "    .dataframe tbody tr th {\n",
       "        vertical-align: top;\n",
       "    }\n",
       "\n",
       "    .dataframe thead th {\n",
       "        text-align: right;\n",
       "    }\n",
       "</style>\n",
       "<table border=\"1\" class=\"dataframe\">\n",
       "  <thead>\n",
       "    <tr style=\"text-align: right;\">\n",
       "      <th></th>\n",
       "      <th>File_Name</th>\n",
       "      <th>Content</th>\n",
       "      <th>Category</th>\n",
       "      <th>Complete_Filename</th>\n",
       "      <th>id</th>\n",
       "      <th>News_length</th>\n",
       "      <th>Content_Parsed_1</th>\n",
       "      <th>Content_Parsed_2</th>\n",
       "      <th>Content_Parsed_3</th>\n",
       "      <th>Content_Parsed_4</th>\n",
       "      <th>Content_Parsed_5</th>\n",
       "      <th>Content_Parsed_6</th>\n",
       "    </tr>\n",
       "  </thead>\n",
       "  <tbody>\n",
       "    <tr>\n",
       "      <th>0</th>\n",
       "      <td>001.txt</td>\n",
       "      <td>Ad sales boost Time Warner profit\\n\\nQuarterly...</td>\n",
       "      <td>business</td>\n",
       "      <td>001.txt-business</td>\n",
       "      <td>1</td>\n",
       "      <td>2559</td>\n",
       "      <td>Ad sales boost Time Warner profit  Quarterly p...</td>\n",
       "      <td>ad sales boost time warner profit  quarterly p...</td>\n",
       "      <td>ad sales boost time warner profit  quarterly p...</td>\n",
       "      <td>ad sales boost time warner profit  quarterly p...</td>\n",
       "      <td>ad sale boost time warner profit quarterly pro...</td>\n",
       "      <td>ad sale boost time warner profit quarterly pro...</td>\n",
       "    </tr>\n",
       "  </tbody>\n",
       "</table>\n",
       "</div>"
      ],
      "text/plain": [
       "  File_Name                                            Content  Category  \\\n",
       "0   001.txt  Ad sales boost Time Warner profit\\n\\nQuarterly...  business   \n",
       "\n",
       "  Complete_Filename  id  News_length  \\\n",
       "0  001.txt-business   1         2559   \n",
       "\n",
       "                                    Content_Parsed_1  \\\n",
       "0  Ad sales boost Time Warner profit  Quarterly p...   \n",
       "\n",
       "                                    Content_Parsed_2  \\\n",
       "0  ad sales boost time warner profit  quarterly p...   \n",
       "\n",
       "                                    Content_Parsed_3  \\\n",
       "0  ad sales boost time warner profit  quarterly p...   \n",
       "\n",
       "                                    Content_Parsed_4  \\\n",
       "0  ad sales boost time warner profit  quarterly p...   \n",
       "\n",
       "                                    Content_Parsed_5  \\\n",
       "0  ad sale boost time warner profit quarterly pro...   \n",
       "\n",
       "                                    Content_Parsed_6  \n",
       "0  ad sale boost time warner profit quarterly pro...  "
      ]
     },
     "execution_count": 32,
     "metadata": {},
     "output_type": "execute_result"
    }
   ],
   "source": [
    "df.head(1)"
   ]
  },
  {
   "cell_type": "code",
   "execution_count": 33,
   "metadata": {},
   "outputs": [],
   "source": [
    "list_columns = [\"File_Name\", \"Category\", \"Complete_Filename\", \"Content\", \"Content_Parsed_6\"]\n",
    "df = df[list_columns]\n",
    "\n",
    "df = df.rename(columns={'Content_Parsed_6': 'Content_Parsed'})"
   ]
  },
  {
   "cell_type": "code",
   "execution_count": 34,
   "metadata": {
    "scrolled": true
   },
   "outputs": [
    {
     "data": {
      "text/html": [
       "<div>\n",
       "<style scoped>\n",
       "    .dataframe tbody tr th:only-of-type {\n",
       "        vertical-align: middle;\n",
       "    }\n",
       "\n",
       "    .dataframe tbody tr th {\n",
       "        vertical-align: top;\n",
       "    }\n",
       "\n",
       "    .dataframe thead th {\n",
       "        text-align: right;\n",
       "    }\n",
       "</style>\n",
       "<table border=\"1\" class=\"dataframe\">\n",
       "  <thead>\n",
       "    <tr style=\"text-align: right;\">\n",
       "      <th></th>\n",
       "      <th>File_Name</th>\n",
       "      <th>Category</th>\n",
       "      <th>Complete_Filename</th>\n",
       "      <th>Content</th>\n",
       "      <th>Content_Parsed</th>\n",
       "    </tr>\n",
       "  </thead>\n",
       "  <tbody>\n",
       "    <tr>\n",
       "      <th>0</th>\n",
       "      <td>001.txt</td>\n",
       "      <td>business</td>\n",
       "      <td>001.txt-business</td>\n",
       "      <td>Ad sales boost Time Warner profit\\n\\nQuarterly...</td>\n",
       "      <td>ad sale boost time warner profit quarterly pro...</td>\n",
       "    </tr>\n",
       "    <tr>\n",
       "      <th>1</th>\n",
       "      <td>002.txt</td>\n",
       "      <td>business</td>\n",
       "      <td>002.txt-business</td>\n",
       "      <td>Dollar gains on Greenspan speech\\n\\nThe dollar...</td>\n",
       "      <td>dollar gain greenspan speech dollar hit highes...</td>\n",
       "    </tr>\n",
       "    <tr>\n",
       "      <th>2</th>\n",
       "      <td>003.txt</td>\n",
       "      <td>business</td>\n",
       "      <td>003.txt-business</td>\n",
       "      <td>Yukos unit buyer faces loan claim\\n\\nThe owner...</td>\n",
       "      <td>yukos unit buyer face loan claim owner embattl...</td>\n",
       "    </tr>\n",
       "    <tr>\n",
       "      <th>3</th>\n",
       "      <td>004.txt</td>\n",
       "      <td>business</td>\n",
       "      <td>004.txt-business</td>\n",
       "      <td>High fuel prices hit BA's profits\\n\\nBritish A...</td>\n",
       "      <td>high fuel price hit ba profit british airway b...</td>\n",
       "    </tr>\n",
       "    <tr>\n",
       "      <th>4</th>\n",
       "      <td>005.txt</td>\n",
       "      <td>business</td>\n",
       "      <td>005.txt-business</td>\n",
       "      <td>Pernod takeover talk lifts Domecq\\n\\nShares in...</td>\n",
       "      <td>pernod takeover talk lift domecq share uk drin...</td>\n",
       "    </tr>\n",
       "  </tbody>\n",
       "</table>\n",
       "</div>"
      ],
      "text/plain": [
       "  File_Name  Category Complete_Filename  \\\n",
       "0   001.txt  business  001.txt-business   \n",
       "1   002.txt  business  002.txt-business   \n",
       "2   003.txt  business  003.txt-business   \n",
       "3   004.txt  business  004.txt-business   \n",
       "4   005.txt  business  005.txt-business   \n",
       "\n",
       "                                             Content  \\\n",
       "0  Ad sales boost Time Warner profit\\n\\nQuarterly...   \n",
       "1  Dollar gains on Greenspan speech\\n\\nThe dollar...   \n",
       "2  Yukos unit buyer faces loan claim\\n\\nThe owner...   \n",
       "3  High fuel prices hit BA's profits\\n\\nBritish A...   \n",
       "4  Pernod takeover talk lifts Domecq\\n\\nShares in...   \n",
       "\n",
       "                                      Content_Parsed  \n",
       "0  ad sale boost time warner profit quarterly pro...  \n",
       "1  dollar gain greenspan speech dollar hit highes...  \n",
       "2  yukos unit buyer face loan claim owner embattl...  \n",
       "3  high fuel price hit ba profit british airway b...  \n",
       "4  pernod takeover talk lift domecq share uk drin...  "
      ]
     },
     "execution_count": 34,
     "metadata": {},
     "output_type": "execute_result"
    }
   ],
   "source": [
    "df.head()"
   ]
  },
  {
   "cell_type": "markdown",
   "metadata": {},
   "source": [
    "**IMPORTANT:**\n",
    "\n",
    "We need to remember that our model will gather the latest news articles from different newspapers every time we want. For that reason, we not only need to take into account the peculiarities of the training set articles, but also possible ones that are present in the gathered news articles.\n",
    "\n",
    "For this reason, possible peculiarities have been studied in the *05. News Scraping* folder."
   ]
  },
  {
   "cell_type": "markdown",
   "metadata": {},
   "source": [
    "## 2. Label coding"
   ]
  },
  {
   "cell_type": "markdown",
   "metadata": {},
   "source": [
    "We'll create a dictionary with the label codification:"
   ]
  },
  {
   "cell_type": "code",
   "execution_count": 35,
   "metadata": {},
   "outputs": [],
   "source": [
    "category_codes = {\n",
    "    'business': 0,\n",
    "    'entertainment': 1,\n",
    "    'politics': 2,\n",
    "    'sport': 3,\n",
    "    'tech': 4\n",
    "}"
   ]
  },
  {
   "cell_type": "code",
   "execution_count": 36,
   "metadata": {},
   "outputs": [],
   "source": [
    "# Category mapping\n",
    "df['Category_Code'] = df['Category']\n",
    "df = df.replace({'Category_Code':category_codes})"
   ]
  },
  {
   "cell_type": "code",
   "execution_count": 37,
   "metadata": {
    "scrolled": true
   },
   "outputs": [
    {
     "data": {
      "text/html": [
       "<div>\n",
       "<style scoped>\n",
       "    .dataframe tbody tr th:only-of-type {\n",
       "        vertical-align: middle;\n",
       "    }\n",
       "\n",
       "    .dataframe tbody tr th {\n",
       "        vertical-align: top;\n",
       "    }\n",
       "\n",
       "    .dataframe thead th {\n",
       "        text-align: right;\n",
       "    }\n",
       "</style>\n",
       "<table border=\"1\" class=\"dataframe\">\n",
       "  <thead>\n",
       "    <tr style=\"text-align: right;\">\n",
       "      <th></th>\n",
       "      <th>File_Name</th>\n",
       "      <th>Category</th>\n",
       "      <th>Complete_Filename</th>\n",
       "      <th>Content</th>\n",
       "      <th>Content_Parsed</th>\n",
       "      <th>Category_Code</th>\n",
       "    </tr>\n",
       "  </thead>\n",
       "  <tbody>\n",
       "    <tr>\n",
       "      <th>0</th>\n",
       "      <td>001.txt</td>\n",
       "      <td>business</td>\n",
       "      <td>001.txt-business</td>\n",
       "      <td>Ad sales boost Time Warner profit\\n\\nQuarterly...</td>\n",
       "      <td>ad sale boost time warner profit quarterly pro...</td>\n",
       "      <td>0</td>\n",
       "    </tr>\n",
       "    <tr>\n",
       "      <th>1</th>\n",
       "      <td>002.txt</td>\n",
       "      <td>business</td>\n",
       "      <td>002.txt-business</td>\n",
       "      <td>Dollar gains on Greenspan speech\\n\\nThe dollar...</td>\n",
       "      <td>dollar gain greenspan speech dollar hit highes...</td>\n",
       "      <td>0</td>\n",
       "    </tr>\n",
       "    <tr>\n",
       "      <th>2</th>\n",
       "      <td>003.txt</td>\n",
       "      <td>business</td>\n",
       "      <td>003.txt-business</td>\n",
       "      <td>Yukos unit buyer faces loan claim\\n\\nThe owner...</td>\n",
       "      <td>yukos unit buyer face loan claim owner embattl...</td>\n",
       "      <td>0</td>\n",
       "    </tr>\n",
       "    <tr>\n",
       "      <th>3</th>\n",
       "      <td>004.txt</td>\n",
       "      <td>business</td>\n",
       "      <td>004.txt-business</td>\n",
       "      <td>High fuel prices hit BA's profits\\n\\nBritish A...</td>\n",
       "      <td>high fuel price hit ba profit british airway b...</td>\n",
       "      <td>0</td>\n",
       "    </tr>\n",
       "    <tr>\n",
       "      <th>4</th>\n",
       "      <td>005.txt</td>\n",
       "      <td>business</td>\n",
       "      <td>005.txt-business</td>\n",
       "      <td>Pernod takeover talk lifts Domecq\\n\\nShares in...</td>\n",
       "      <td>pernod takeover talk lift domecq share uk drin...</td>\n",
       "      <td>0</td>\n",
       "    </tr>\n",
       "  </tbody>\n",
       "</table>\n",
       "</div>"
      ],
      "text/plain": [
       "  File_Name  Category Complete_Filename  \\\n",
       "0   001.txt  business  001.txt-business   \n",
       "1   002.txt  business  002.txt-business   \n",
       "2   003.txt  business  003.txt-business   \n",
       "3   004.txt  business  004.txt-business   \n",
       "4   005.txt  business  005.txt-business   \n",
       "\n",
       "                                             Content  \\\n",
       "0  Ad sales boost Time Warner profit\\n\\nQuarterly...   \n",
       "1  Dollar gains on Greenspan speech\\n\\nThe dollar...   \n",
       "2  Yukos unit buyer faces loan claim\\n\\nThe owner...   \n",
       "3  High fuel prices hit BA's profits\\n\\nBritish A...   \n",
       "4  Pernod takeover talk lifts Domecq\\n\\nShares in...   \n",
       "\n",
       "                                      Content_Parsed  Category_Code  \n",
       "0  ad sale boost time warner profit quarterly pro...              0  \n",
       "1  dollar gain greenspan speech dollar hit highes...              0  \n",
       "2  yukos unit buyer face loan claim owner embattl...              0  \n",
       "3  high fuel price hit ba profit british airway b...              0  \n",
       "4  pernod takeover talk lift domecq share uk drin...              0  "
      ]
     },
     "execution_count": 37,
     "metadata": {},
     "output_type": "execute_result"
    }
   ],
   "source": [
    "df.head()"
   ]
  },
  {
   "cell_type": "markdown",
   "metadata": {},
   "source": [
    "## 3. Train - test split"
   ]
  },
  {
   "cell_type": "markdown",
   "metadata": {},
   "source": [
    "We'll set apart a test set to prove the quality of our models. We'll do Cross Validation in the train set in order to tune the hyperparameters and then test performance on the unseen data of the test set."
   ]
  },
  {
   "cell_type": "code",
   "execution_count": 38,
   "metadata": {},
   "outputs": [],
   "source": [
    "X_train, X_test, y_train, y_test = train_test_split(df['Content_Parsed'], \n",
    "                                                    df['Category_Code'], \n",
    "                                                    test_size=0.15, \n",
    "                                                    random_state=8)"
   ]
  },
  {
   "cell_type": "markdown",
   "metadata": {},
   "source": [
    "Since we don't have much observations (only 2.225), we'll choose a test set size of 15% of the full dataset."
   ]
  },
  {
   "cell_type": "markdown",
   "metadata": {},
   "source": [
    "Visualize the category distribution in Train & Test"
   ]
  },
  {
   "cell_type": "code",
   "execution_count": 73,
   "metadata": {},
   "outputs": [
    {
     "data": {
      "text/html": [
       "\n",
       "<div id=\"altair-viz-b88adc3cb3a04f3ea4633e26e94eee78\"></div>\n",
       "<script type=\"text/javascript\">\n",
       "  (function(spec, embedOpt){\n",
       "    let outputDiv = document.currentScript.previousElementSibling;\n",
       "    if (outputDiv.id !== \"altair-viz-b88adc3cb3a04f3ea4633e26e94eee78\") {\n",
       "      outputDiv = document.getElementById(\"altair-viz-b88adc3cb3a04f3ea4633e26e94eee78\");\n",
       "    }\n",
       "    const paths = {\n",
       "      \"vega\": \"https://cdn.jsdelivr.net/npm//vega@5?noext\",\n",
       "      \"vega-lib\": \"https://cdn.jsdelivr.net/npm//vega-lib?noext\",\n",
       "      \"vega-lite\": \"https://cdn.jsdelivr.net/npm//vega-lite@4.8.1?noext\",\n",
       "      \"vega-embed\": \"https://cdn.jsdelivr.net/npm//vega-embed@6?noext\",\n",
       "    };\n",
       "\n",
       "    function loadScript(lib) {\n",
       "      return new Promise(function(resolve, reject) {\n",
       "        var s = document.createElement('script');\n",
       "        s.src = paths[lib];\n",
       "        s.async = true;\n",
       "        s.onload = () => resolve(paths[lib]);\n",
       "        s.onerror = () => reject(`Error loading script: ${paths[lib]}`);\n",
       "        document.getElementsByTagName(\"head\")[0].appendChild(s);\n",
       "      });\n",
       "    }\n",
       "\n",
       "    function showError(err) {\n",
       "      outputDiv.innerHTML = `<div class=\"error\" style=\"color:red;\">${err}</div>`;\n",
       "      throw err;\n",
       "    }\n",
       "\n",
       "    function displayChart(vegaEmbed) {\n",
       "      vegaEmbed(outputDiv, spec, embedOpt)\n",
       "        .catch(err => showError(`Javascript Error: ${err.message}<br>This usually means there's a typo in your chart specification. See the javascript console for the full traceback.`));\n",
       "    }\n",
       "\n",
       "    if(typeof define === \"function\" && define.amd) {\n",
       "      requirejs.config({paths});\n",
       "      require([\"vega-embed\"], displayChart, err => showError(`Error loading script: ${err.message}`));\n",
       "    } else if (typeof vegaEmbed === \"function\") {\n",
       "      displayChart(vegaEmbed);\n",
       "    } else {\n",
       "      loadScript(\"vega\")\n",
       "        .then(() => loadScript(\"vega-lite\"))\n",
       "        .then(() => loadScript(\"vega-embed\"))\n",
       "        .catch(showError)\n",
       "        .then(() => displayChart(vegaEmbed));\n",
       "    }\n",
       "  })({\"config\": {\"view\": {\"continuousWidth\": 400, \"continuousHeight\": 300}}, \"layer\": [{\"mark\": {\"type\": \"bar\", \"size\": 50}, \"encoding\": {\"color\": {\"type\": \"quantitative\", \"field\": \"Category_Code\"}, \"tooltip\": [{\"type\": \"quantitative\", \"aggregate\": \"count\", \"title\": \"Number of articles\"}, {\"type\": \"quantitative\", \"field\": \"Category_Code\"}], \"x\": {\"type\": \"quantitative\", \"field\": \"Category_Code\"}, \"y\": {\"type\": \"quantitative\", \"aggregate\": \"count\", \"axis\": {\"title\": \"Number of articles\"}}}, \"selection\": {\"selector009\": {\"type\": \"interval\", \"bind\": \"scales\", \"encodings\": [\"x\", \"y\"]}}}, {\"mark\": {\"type\": \"text\", \"align\": \"center\", \"baseline\": \"bottom\"}, \"encoding\": {\"color\": {\"type\": \"quantitative\", \"field\": \"Category_Code\"}, \"text\": {\"type\": \"quantitative\", \"aggregate\": \"count\"}, \"tooltip\": [{\"type\": \"quantitative\", \"aggregate\": \"count\", \"title\": \"Number of articles\"}, {\"type\": \"quantitative\", \"field\": \"Category_Code\"}], \"x\": {\"type\": \"quantitative\", \"field\": \"Category_Code\"}, \"y\": {\"type\": \"quantitative\", \"aggregate\": \"count\", \"axis\": {\"title\": \"Number of articles\"}}}}], \"data\": {\"name\": \"data-46fef3706fa6b2deb3af37dae155bb92\"}, \"height\": 300, \"title\": \"Category Histogram in Training Data\", \"width\": 700, \"$schema\": \"https://vega.github.io/schema/vega-lite/v4.8.1.json\", \"datasets\": {\"data-46fef3706fa6b2deb3af37dae155bb92\": [{\"Category_Code\": 4}, {\"Category_Code\": 2}, {\"Category_Code\": 0}, {\"Category_Code\": 0}, {\"Category_Code\": 2}, {\"Category_Code\": 3}, {\"Category_Code\": 3}, {\"Category_Code\": 3}, {\"Category_Code\": 1}, {\"Category_Code\": 3}, {\"Category_Code\": 0}, {\"Category_Code\": 4}, {\"Category_Code\": 0}, {\"Category_Code\": 2}, {\"Category_Code\": 0}, {\"Category_Code\": 2}, {\"Category_Code\": 0}, {\"Category_Code\": 4}, {\"Category_Code\": 2}, {\"Category_Code\": 2}, {\"Category_Code\": 0}, {\"Category_Code\": 0}, {\"Category_Code\": 3}, {\"Category_Code\": 0}, {\"Category_Code\": 1}, {\"Category_Code\": 0}, {\"Category_Code\": 3}, {\"Category_Code\": 0}, {\"Category_Code\": 0}, {\"Category_Code\": 3}, {\"Category_Code\": 4}, {\"Category_Code\": 2}, {\"Category_Code\": 1}, {\"Category_Code\": 1}, {\"Category_Code\": 2}, {\"Category_Code\": 4}, {\"Category_Code\": 3}, {\"Category_Code\": 1}, {\"Category_Code\": 0}, {\"Category_Code\": 0}, {\"Category_Code\": 4}, {\"Category_Code\": 1}, {\"Category_Code\": 4}, {\"Category_Code\": 1}, {\"Category_Code\": 0}, {\"Category_Code\": 1}, {\"Category_Code\": 1}, {\"Category_Code\": 1}, {\"Category_Code\": 4}, {\"Category_Code\": 1}, {\"Category_Code\": 3}, {\"Category_Code\": 0}, {\"Category_Code\": 1}, {\"Category_Code\": 3}, {\"Category_Code\": 2}, {\"Category_Code\": 0}, {\"Category_Code\": 1}, {\"Category_Code\": 0}, {\"Category_Code\": 4}, {\"Category_Code\": 1}, {\"Category_Code\": 1}, {\"Category_Code\": 4}, {\"Category_Code\": 0}, {\"Category_Code\": 3}, {\"Category_Code\": 1}, {\"Category_Code\": 1}, {\"Category_Code\": 3}, {\"Category_Code\": 0}, {\"Category_Code\": 4}, {\"Category_Code\": 3}, {\"Category_Code\": 0}, {\"Category_Code\": 3}, {\"Category_Code\": 2}, {\"Category_Code\": 4}, {\"Category_Code\": 1}, {\"Category_Code\": 1}, {\"Category_Code\": 0}, {\"Category_Code\": 1}, {\"Category_Code\": 3}, {\"Category_Code\": 4}, {\"Category_Code\": 0}, {\"Category_Code\": 0}, {\"Category_Code\": 1}, {\"Category_Code\": 0}, {\"Category_Code\": 4}, {\"Category_Code\": 1}, {\"Category_Code\": 0}, {\"Category_Code\": 0}, {\"Category_Code\": 0}, {\"Category_Code\": 0}, {\"Category_Code\": 0}, {\"Category_Code\": 1}, {\"Category_Code\": 0}, {\"Category_Code\": 1}, {\"Category_Code\": 0}, {\"Category_Code\": 3}, {\"Category_Code\": 1}, {\"Category_Code\": 2}, {\"Category_Code\": 2}, {\"Category_Code\": 3}, {\"Category_Code\": 4}, {\"Category_Code\": 0}, {\"Category_Code\": 3}, {\"Category_Code\": 0}, {\"Category_Code\": 0}, {\"Category_Code\": 2}, {\"Category_Code\": 0}, {\"Category_Code\": 0}, {\"Category_Code\": 3}, {\"Category_Code\": 4}, {\"Category_Code\": 1}, {\"Category_Code\": 1}, {\"Category_Code\": 3}, {\"Category_Code\": 2}, {\"Category_Code\": 1}, {\"Category_Code\": 3}, {\"Category_Code\": 0}, {\"Category_Code\": 3}, {\"Category_Code\": 1}, {\"Category_Code\": 3}, {\"Category_Code\": 3}, {\"Category_Code\": 2}, {\"Category_Code\": 1}, {\"Category_Code\": 2}, {\"Category_Code\": 1}, {\"Category_Code\": 4}, {\"Category_Code\": 0}, {\"Category_Code\": 0}, {\"Category_Code\": 0}, {\"Category_Code\": 3}, {\"Category_Code\": 4}, {\"Category_Code\": 2}, {\"Category_Code\": 3}, {\"Category_Code\": 1}, {\"Category_Code\": 4}, {\"Category_Code\": 2}, {\"Category_Code\": 4}, {\"Category_Code\": 1}, {\"Category_Code\": 2}, {\"Category_Code\": 0}, {\"Category_Code\": 2}, {\"Category_Code\": 2}, {\"Category_Code\": 3}, {\"Category_Code\": 2}, {\"Category_Code\": 1}, {\"Category_Code\": 4}, {\"Category_Code\": 0}, {\"Category_Code\": 0}, {\"Category_Code\": 2}, {\"Category_Code\": 3}, {\"Category_Code\": 2}, {\"Category_Code\": 0}, {\"Category_Code\": 3}, {\"Category_Code\": 0}, {\"Category_Code\": 4}, {\"Category_Code\": 4}, {\"Category_Code\": 2}, {\"Category_Code\": 2}, {\"Category_Code\": 1}, {\"Category_Code\": 0}, {\"Category_Code\": 1}, {\"Category_Code\": 2}, {\"Category_Code\": 2}, {\"Category_Code\": 3}, {\"Category_Code\": 2}, {\"Category_Code\": 3}, {\"Category_Code\": 4}, {\"Category_Code\": 3}, {\"Category_Code\": 0}, {\"Category_Code\": 4}, {\"Category_Code\": 3}, {\"Category_Code\": 1}, {\"Category_Code\": 3}, {\"Category_Code\": 1}, {\"Category_Code\": 3}, {\"Category_Code\": 0}, {\"Category_Code\": 3}, {\"Category_Code\": 3}, {\"Category_Code\": 2}, {\"Category_Code\": 4}, {\"Category_Code\": 4}, {\"Category_Code\": 0}, {\"Category_Code\": 0}, {\"Category_Code\": 2}, {\"Category_Code\": 1}, {\"Category_Code\": 3}, {\"Category_Code\": 1}, {\"Category_Code\": 2}, {\"Category_Code\": 4}, {\"Category_Code\": 3}, {\"Category_Code\": 1}, {\"Category_Code\": 0}, {\"Category_Code\": 2}, {\"Category_Code\": 0}, {\"Category_Code\": 3}, {\"Category_Code\": 4}, {\"Category_Code\": 3}, {\"Category_Code\": 2}, {\"Category_Code\": 4}, {\"Category_Code\": 2}, {\"Category_Code\": 3}, {\"Category_Code\": 4}, {\"Category_Code\": 4}, {\"Category_Code\": 2}, {\"Category_Code\": 3}, {\"Category_Code\": 4}, {\"Category_Code\": 4}, {\"Category_Code\": 2}, {\"Category_Code\": 2}, {\"Category_Code\": 4}, {\"Category_Code\": 1}, {\"Category_Code\": 2}, {\"Category_Code\": 2}, {\"Category_Code\": 4}, {\"Category_Code\": 3}, {\"Category_Code\": 2}, {\"Category_Code\": 3}, {\"Category_Code\": 3}, {\"Category_Code\": 3}, {\"Category_Code\": 1}, {\"Category_Code\": 1}, {\"Category_Code\": 1}, {\"Category_Code\": 0}, {\"Category_Code\": 0}, {\"Category_Code\": 2}, {\"Category_Code\": 2}, {\"Category_Code\": 3}, {\"Category_Code\": 0}, {\"Category_Code\": 0}, {\"Category_Code\": 0}, {\"Category_Code\": 2}, {\"Category_Code\": 0}, {\"Category_Code\": 0}, {\"Category_Code\": 4}, {\"Category_Code\": 2}, {\"Category_Code\": 3}, {\"Category_Code\": 2}, {\"Category_Code\": 0}, {\"Category_Code\": 1}, {\"Category_Code\": 4}, {\"Category_Code\": 1}, {\"Category_Code\": 4}, {\"Category_Code\": 3}, {\"Category_Code\": 3}, {\"Category_Code\": 4}, {\"Category_Code\": 1}, {\"Category_Code\": 4}, {\"Category_Code\": 0}, {\"Category_Code\": 1}, {\"Category_Code\": 3}, {\"Category_Code\": 0}, {\"Category_Code\": 4}, {\"Category_Code\": 1}, {\"Category_Code\": 3}, {\"Category_Code\": 1}, {\"Category_Code\": 1}, {\"Category_Code\": 0}, {\"Category_Code\": 4}, {\"Category_Code\": 4}, {\"Category_Code\": 0}, {\"Category_Code\": 3}, {\"Category_Code\": 3}, {\"Category_Code\": 2}, {\"Category_Code\": 4}, {\"Category_Code\": 0}, {\"Category_Code\": 4}, {\"Category_Code\": 2}, {\"Category_Code\": 3}, {\"Category_Code\": 0}, {\"Category_Code\": 1}, {\"Category_Code\": 3}, {\"Category_Code\": 1}, {\"Category_Code\": 3}, {\"Category_Code\": 2}, {\"Category_Code\": 2}, {\"Category_Code\": 0}, {\"Category_Code\": 3}, {\"Category_Code\": 4}, {\"Category_Code\": 0}, {\"Category_Code\": 3}, {\"Category_Code\": 0}, {\"Category_Code\": 1}, {\"Category_Code\": 0}, {\"Category_Code\": 3}, {\"Category_Code\": 0}, {\"Category_Code\": 1}, {\"Category_Code\": 1}, {\"Category_Code\": 2}, {\"Category_Code\": 4}, {\"Category_Code\": 0}, {\"Category_Code\": 2}, {\"Category_Code\": 3}, {\"Category_Code\": 4}, {\"Category_Code\": 4}, {\"Category_Code\": 0}, {\"Category_Code\": 3}, {\"Category_Code\": 0}, {\"Category_Code\": 4}, {\"Category_Code\": 2}, {\"Category_Code\": 4}, {\"Category_Code\": 3}, {\"Category_Code\": 0}, {\"Category_Code\": 0}, {\"Category_Code\": 2}, {\"Category_Code\": 0}, {\"Category_Code\": 2}, {\"Category_Code\": 2}, {\"Category_Code\": 4}, {\"Category_Code\": 2}, {\"Category_Code\": 4}, {\"Category_Code\": 0}, {\"Category_Code\": 1}, {\"Category_Code\": 4}, {\"Category_Code\": 4}, {\"Category_Code\": 3}, {\"Category_Code\": 4}, {\"Category_Code\": 2}, {\"Category_Code\": 0}, {\"Category_Code\": 3}, {\"Category_Code\": 2}, {\"Category_Code\": 0}, {\"Category_Code\": 0}, {\"Category_Code\": 2}, {\"Category_Code\": 3}, {\"Category_Code\": 3}, {\"Category_Code\": 1}, {\"Category_Code\": 0}, {\"Category_Code\": 0}, {\"Category_Code\": 4}, {\"Category_Code\": 3}, {\"Category_Code\": 3}, {\"Category_Code\": 1}, {\"Category_Code\": 4}, {\"Category_Code\": 3}, {\"Category_Code\": 4}, {\"Category_Code\": 1}, {\"Category_Code\": 0}, {\"Category_Code\": 3}, {\"Category_Code\": 3}, {\"Category_Code\": 3}, {\"Category_Code\": 4}, {\"Category_Code\": 4}, {\"Category_Code\": 1}, {\"Category_Code\": 3}, {\"Category_Code\": 3}, {\"Category_Code\": 1}, {\"Category_Code\": 0}, {\"Category_Code\": 4}, {\"Category_Code\": 2}, {\"Category_Code\": 0}, {\"Category_Code\": 4}, {\"Category_Code\": 1}, {\"Category_Code\": 4}, {\"Category_Code\": 0}, {\"Category_Code\": 3}, {\"Category_Code\": 0}, {\"Category_Code\": 1}, {\"Category_Code\": 2}, {\"Category_Code\": 4}, {\"Category_Code\": 3}, {\"Category_Code\": 0}, {\"Category_Code\": 0}, {\"Category_Code\": 1}, {\"Category_Code\": 4}, {\"Category_Code\": 0}, {\"Category_Code\": 2}, {\"Category_Code\": 0}, {\"Category_Code\": 1}, {\"Category_Code\": 1}, {\"Category_Code\": 1}, {\"Category_Code\": 2}, {\"Category_Code\": 0}, {\"Category_Code\": 0}, {\"Category_Code\": 2}, {\"Category_Code\": 4}, {\"Category_Code\": 4}, {\"Category_Code\": 3}, {\"Category_Code\": 2}, {\"Category_Code\": 2}, {\"Category_Code\": 1}, {\"Category_Code\": 1}, {\"Category_Code\": 1}, {\"Category_Code\": 2}, {\"Category_Code\": 4}, {\"Category_Code\": 3}, {\"Category_Code\": 4}, {\"Category_Code\": 2}, {\"Category_Code\": 3}, {\"Category_Code\": 2}, {\"Category_Code\": 3}, {\"Category_Code\": 1}, {\"Category_Code\": 4}, {\"Category_Code\": 3}, {\"Category_Code\": 0}, {\"Category_Code\": 0}, {\"Category_Code\": 3}, {\"Category_Code\": 0}, {\"Category_Code\": 1}, {\"Category_Code\": 3}, {\"Category_Code\": 2}, {\"Category_Code\": 4}, {\"Category_Code\": 4}, {\"Category_Code\": 2}, {\"Category_Code\": 4}, {\"Category_Code\": 4}, {\"Category_Code\": 2}, {\"Category_Code\": 4}, {\"Category_Code\": 3}, {\"Category_Code\": 2}, {\"Category_Code\": 3}, {\"Category_Code\": 0}, {\"Category_Code\": 1}, {\"Category_Code\": 0}, {\"Category_Code\": 3}, {\"Category_Code\": 0}, {\"Category_Code\": 3}, {\"Category_Code\": 0}, {\"Category_Code\": 3}, {\"Category_Code\": 2}, {\"Category_Code\": 1}, {\"Category_Code\": 1}, {\"Category_Code\": 3}, {\"Category_Code\": 1}, {\"Category_Code\": 4}, {\"Category_Code\": 3}, {\"Category_Code\": 3}, {\"Category_Code\": 3}, {\"Category_Code\": 1}, {\"Category_Code\": 4}, {\"Category_Code\": 4}, {\"Category_Code\": 4}, {\"Category_Code\": 3}, {\"Category_Code\": 4}, {\"Category_Code\": 4}, {\"Category_Code\": 3}, {\"Category_Code\": 0}, {\"Category_Code\": 4}, {\"Category_Code\": 0}, {\"Category_Code\": 0}, {\"Category_Code\": 2}, {\"Category_Code\": 3}, {\"Category_Code\": 3}, {\"Category_Code\": 4}, {\"Category_Code\": 1}, {\"Category_Code\": 0}, {\"Category_Code\": 4}, {\"Category_Code\": 4}, {\"Category_Code\": 0}, {\"Category_Code\": 0}, {\"Category_Code\": 0}, {\"Category_Code\": 1}, {\"Category_Code\": 4}, {\"Category_Code\": 3}, {\"Category_Code\": 1}, {\"Category_Code\": 1}, {\"Category_Code\": 2}, {\"Category_Code\": 1}, {\"Category_Code\": 3}, {\"Category_Code\": 1}, {\"Category_Code\": 0}, {\"Category_Code\": 1}, {\"Category_Code\": 1}, {\"Category_Code\": 4}, {\"Category_Code\": 0}, {\"Category_Code\": 0}, {\"Category_Code\": 2}, {\"Category_Code\": 0}, {\"Category_Code\": 0}, {\"Category_Code\": 3}, {\"Category_Code\": 0}, {\"Category_Code\": 4}, {\"Category_Code\": 4}, {\"Category_Code\": 2}, {\"Category_Code\": 2}, {\"Category_Code\": 3}, {\"Category_Code\": 0}, {\"Category_Code\": 0}, {\"Category_Code\": 3}, {\"Category_Code\": 0}, {\"Category_Code\": 2}, {\"Category_Code\": 0}, {\"Category_Code\": 2}, {\"Category_Code\": 0}, {\"Category_Code\": 2}, {\"Category_Code\": 0}, {\"Category_Code\": 1}, {\"Category_Code\": 2}, {\"Category_Code\": 0}, {\"Category_Code\": 1}, {\"Category_Code\": 0}, {\"Category_Code\": 4}, {\"Category_Code\": 0}, {\"Category_Code\": 3}, {\"Category_Code\": 1}, {\"Category_Code\": 0}, {\"Category_Code\": 0}, {\"Category_Code\": 3}, {\"Category_Code\": 0}, {\"Category_Code\": 3}, {\"Category_Code\": 1}, {\"Category_Code\": 3}, {\"Category_Code\": 2}, {\"Category_Code\": 0}, {\"Category_Code\": 3}, {\"Category_Code\": 0}, {\"Category_Code\": 3}, {\"Category_Code\": 4}, {\"Category_Code\": 0}, {\"Category_Code\": 3}, {\"Category_Code\": 2}, {\"Category_Code\": 3}, {\"Category_Code\": 4}, {\"Category_Code\": 0}, {\"Category_Code\": 2}, {\"Category_Code\": 4}, {\"Category_Code\": 3}, {\"Category_Code\": 0}, {\"Category_Code\": 3}, {\"Category_Code\": 2}, {\"Category_Code\": 2}, {\"Category_Code\": 1}, {\"Category_Code\": 0}, {\"Category_Code\": 4}, {\"Category_Code\": 4}, {\"Category_Code\": 2}, {\"Category_Code\": 2}, {\"Category_Code\": 1}, {\"Category_Code\": 2}, {\"Category_Code\": 4}, {\"Category_Code\": 3}, {\"Category_Code\": 4}, {\"Category_Code\": 0}, {\"Category_Code\": 1}, {\"Category_Code\": 3}, {\"Category_Code\": 2}, {\"Category_Code\": 0}, {\"Category_Code\": 2}, {\"Category_Code\": 0}, {\"Category_Code\": 3}, {\"Category_Code\": 3}, {\"Category_Code\": 3}, {\"Category_Code\": 2}, {\"Category_Code\": 2}, {\"Category_Code\": 3}, {\"Category_Code\": 1}, {\"Category_Code\": 4}, {\"Category_Code\": 0}, {\"Category_Code\": 4}, {\"Category_Code\": 0}, {\"Category_Code\": 2}, {\"Category_Code\": 1}, {\"Category_Code\": 0}, {\"Category_Code\": 3}, {\"Category_Code\": 4}, {\"Category_Code\": 3}, {\"Category_Code\": 4}, {\"Category_Code\": 3}, {\"Category_Code\": 0}, {\"Category_Code\": 1}, {\"Category_Code\": 3}, {\"Category_Code\": 1}, {\"Category_Code\": 3}, {\"Category_Code\": 3}, {\"Category_Code\": 0}, {\"Category_Code\": 1}, {\"Category_Code\": 1}, {\"Category_Code\": 1}, {\"Category_Code\": 3}, {\"Category_Code\": 4}, {\"Category_Code\": 2}, {\"Category_Code\": 2}, {\"Category_Code\": 2}, {\"Category_Code\": 2}, {\"Category_Code\": 4}, {\"Category_Code\": 4}, {\"Category_Code\": 4}, {\"Category_Code\": 4}, {\"Category_Code\": 0}, {\"Category_Code\": 0}, {\"Category_Code\": 4}, {\"Category_Code\": 1}, {\"Category_Code\": 0}, {\"Category_Code\": 3}, {\"Category_Code\": 0}, {\"Category_Code\": 3}, {\"Category_Code\": 3}, {\"Category_Code\": 0}, {\"Category_Code\": 2}, {\"Category_Code\": 3}, {\"Category_Code\": 3}, {\"Category_Code\": 4}, {\"Category_Code\": 0}, {\"Category_Code\": 3}, {\"Category_Code\": 2}, {\"Category_Code\": 3}, {\"Category_Code\": 1}, {\"Category_Code\": 3}, {\"Category_Code\": 2}, {\"Category_Code\": 2}, {\"Category_Code\": 0}, {\"Category_Code\": 2}, {\"Category_Code\": 4}, {\"Category_Code\": 4}, {\"Category_Code\": 0}, {\"Category_Code\": 1}, {\"Category_Code\": 2}, {\"Category_Code\": 3}, {\"Category_Code\": 4}, {\"Category_Code\": 0}, {\"Category_Code\": 3}, {\"Category_Code\": 2}, {\"Category_Code\": 2}, {\"Category_Code\": 0}, {\"Category_Code\": 2}, {\"Category_Code\": 1}, {\"Category_Code\": 1}, {\"Category_Code\": 1}, {\"Category_Code\": 2}, {\"Category_Code\": 3}, {\"Category_Code\": 3}, {\"Category_Code\": 3}, {\"Category_Code\": 2}, {\"Category_Code\": 4}, {\"Category_Code\": 3}, {\"Category_Code\": 4}, {\"Category_Code\": 3}, {\"Category_Code\": 3}, {\"Category_Code\": 0}, {\"Category_Code\": 1}, {\"Category_Code\": 3}, {\"Category_Code\": 1}, {\"Category_Code\": 2}, {\"Category_Code\": 0}, {\"Category_Code\": 2}, {\"Category_Code\": 3}, {\"Category_Code\": 1}, {\"Category_Code\": 4}, {\"Category_Code\": 4}, {\"Category_Code\": 2}, {\"Category_Code\": 4}, {\"Category_Code\": 3}, {\"Category_Code\": 3}, {\"Category_Code\": 3}, {\"Category_Code\": 1}, {\"Category_Code\": 0}, {\"Category_Code\": 0}, {\"Category_Code\": 3}, {\"Category_Code\": 2}, {\"Category_Code\": 0}, {\"Category_Code\": 3}, {\"Category_Code\": 4}, {\"Category_Code\": 3}, {\"Category_Code\": 3}, {\"Category_Code\": 1}, {\"Category_Code\": 3}, {\"Category_Code\": 3}, {\"Category_Code\": 4}, {\"Category_Code\": 4}, {\"Category_Code\": 3}, {\"Category_Code\": 2}, {\"Category_Code\": 4}, {\"Category_Code\": 3}, {\"Category_Code\": 3}, {\"Category_Code\": 0}, {\"Category_Code\": 2}, {\"Category_Code\": 2}, {\"Category_Code\": 0}, {\"Category_Code\": 1}, {\"Category_Code\": 1}, {\"Category_Code\": 2}, {\"Category_Code\": 3}, {\"Category_Code\": 3}, {\"Category_Code\": 3}, {\"Category_Code\": 3}, {\"Category_Code\": 3}, {\"Category_Code\": 1}, {\"Category_Code\": 4}, {\"Category_Code\": 3}, {\"Category_Code\": 1}, {\"Category_Code\": 1}, {\"Category_Code\": 1}, {\"Category_Code\": 3}, {\"Category_Code\": 4}, {\"Category_Code\": 0}, {\"Category_Code\": 2}, {\"Category_Code\": 0}, {\"Category_Code\": 2}, {\"Category_Code\": 0}, {\"Category_Code\": 3}, {\"Category_Code\": 2}, {\"Category_Code\": 3}, {\"Category_Code\": 2}, {\"Category_Code\": 4}, {\"Category_Code\": 1}, {\"Category_Code\": 1}, {\"Category_Code\": 1}, {\"Category_Code\": 1}, {\"Category_Code\": 1}, {\"Category_Code\": 3}, {\"Category_Code\": 3}, {\"Category_Code\": 2}, {\"Category_Code\": 2}, {\"Category_Code\": 3}, {\"Category_Code\": 2}, {\"Category_Code\": 4}, {\"Category_Code\": 0}, {\"Category_Code\": 1}, {\"Category_Code\": 4}, {\"Category_Code\": 4}, {\"Category_Code\": 3}, {\"Category_Code\": 1}, {\"Category_Code\": 2}, {\"Category_Code\": 4}, {\"Category_Code\": 2}, {\"Category_Code\": 4}, {\"Category_Code\": 0}, {\"Category_Code\": 4}, {\"Category_Code\": 2}, {\"Category_Code\": 3}, {\"Category_Code\": 0}, {\"Category_Code\": 3}, {\"Category_Code\": 3}, {\"Category_Code\": 1}, {\"Category_Code\": 2}, {\"Category_Code\": 0}, {\"Category_Code\": 3}, {\"Category_Code\": 1}, {\"Category_Code\": 1}, {\"Category_Code\": 0}, {\"Category_Code\": 1}, {\"Category_Code\": 0}, {\"Category_Code\": 2}, {\"Category_Code\": 1}, {\"Category_Code\": 3}, {\"Category_Code\": 1}, {\"Category_Code\": 4}, {\"Category_Code\": 2}, {\"Category_Code\": 2}, {\"Category_Code\": 3}, {\"Category_Code\": 3}, {\"Category_Code\": 1}, {\"Category_Code\": 4}, {\"Category_Code\": 2}, {\"Category_Code\": 4}, {\"Category_Code\": 3}, {\"Category_Code\": 0}, {\"Category_Code\": 4}, {\"Category_Code\": 0}, {\"Category_Code\": 2}, {\"Category_Code\": 3}, {\"Category_Code\": 4}, {\"Category_Code\": 4}, {\"Category_Code\": 2}, {\"Category_Code\": 2}, {\"Category_Code\": 1}, {\"Category_Code\": 4}, {\"Category_Code\": 3}, {\"Category_Code\": 0}, {\"Category_Code\": 3}, {\"Category_Code\": 2}, {\"Category_Code\": 3}, {\"Category_Code\": 4}, {\"Category_Code\": 4}, {\"Category_Code\": 0}, {\"Category_Code\": 4}, {\"Category_Code\": 0}, {\"Category_Code\": 0}, {\"Category_Code\": 3}, {\"Category_Code\": 0}, {\"Category_Code\": 0}, {\"Category_Code\": 2}, {\"Category_Code\": 4}, {\"Category_Code\": 1}, {\"Category_Code\": 0}, {\"Category_Code\": 0}, {\"Category_Code\": 3}, {\"Category_Code\": 0}, {\"Category_Code\": 0}, {\"Category_Code\": 3}, {\"Category_Code\": 2}, {\"Category_Code\": 0}, {\"Category_Code\": 0}, {\"Category_Code\": 0}, {\"Category_Code\": 0}, {\"Category_Code\": 0}, {\"Category_Code\": 0}, {\"Category_Code\": 3}, {\"Category_Code\": 0}, {\"Category_Code\": 2}, {\"Category_Code\": 1}, {\"Category_Code\": 1}, {\"Category_Code\": 3}, {\"Category_Code\": 3}, {\"Category_Code\": 2}, {\"Category_Code\": 4}, {\"Category_Code\": 1}, {\"Category_Code\": 2}, {\"Category_Code\": 1}, {\"Category_Code\": 3}, {\"Category_Code\": 2}, {\"Category_Code\": 2}, {\"Category_Code\": 1}, {\"Category_Code\": 2}, {\"Category_Code\": 0}, {\"Category_Code\": 0}, {\"Category_Code\": 3}, {\"Category_Code\": 3}, {\"Category_Code\": 3}, {\"Category_Code\": 0}, {\"Category_Code\": 2}, {\"Category_Code\": 3}, {\"Category_Code\": 3}, {\"Category_Code\": 0}, {\"Category_Code\": 1}, {\"Category_Code\": 3}, {\"Category_Code\": 1}, {\"Category_Code\": 4}, {\"Category_Code\": 1}, {\"Category_Code\": 3}, {\"Category_Code\": 1}, {\"Category_Code\": 3}, {\"Category_Code\": 0}, {\"Category_Code\": 3}, {\"Category_Code\": 1}, {\"Category_Code\": 2}, {\"Category_Code\": 4}, {\"Category_Code\": 4}, {\"Category_Code\": 3}, {\"Category_Code\": 1}, {\"Category_Code\": 0}, {\"Category_Code\": 2}, {\"Category_Code\": 0}, {\"Category_Code\": 0}, {\"Category_Code\": 4}, {\"Category_Code\": 3}, {\"Category_Code\": 3}, {\"Category_Code\": 4}, {\"Category_Code\": 2}, {\"Category_Code\": 2}, {\"Category_Code\": 0}, {\"Category_Code\": 3}, {\"Category_Code\": 3}, {\"Category_Code\": 0}, {\"Category_Code\": 4}, {\"Category_Code\": 3}, {\"Category_Code\": 0}, {\"Category_Code\": 3}, {\"Category_Code\": 0}, {\"Category_Code\": 4}, {\"Category_Code\": 0}, {\"Category_Code\": 1}, {\"Category_Code\": 2}, {\"Category_Code\": 4}, {\"Category_Code\": 0}, {\"Category_Code\": 0}, {\"Category_Code\": 1}, {\"Category_Code\": 3}, {\"Category_Code\": 2}, {\"Category_Code\": 2}, {\"Category_Code\": 2}, {\"Category_Code\": 1}, {\"Category_Code\": 2}, {\"Category_Code\": 3}, {\"Category_Code\": 2}, {\"Category_Code\": 2}, {\"Category_Code\": 3}, {\"Category_Code\": 3}, {\"Category_Code\": 4}, {\"Category_Code\": 0}, {\"Category_Code\": 0}, {\"Category_Code\": 3}, {\"Category_Code\": 0}, {\"Category_Code\": 2}, {\"Category_Code\": 3}, {\"Category_Code\": 4}, {\"Category_Code\": 3}, {\"Category_Code\": 2}, {\"Category_Code\": 2}, {\"Category_Code\": 3}, {\"Category_Code\": 1}, {\"Category_Code\": 3}, {\"Category_Code\": 1}, {\"Category_Code\": 1}, {\"Category_Code\": 2}, {\"Category_Code\": 0}, {\"Category_Code\": 3}, {\"Category_Code\": 1}, {\"Category_Code\": 0}, {\"Category_Code\": 0}, {\"Category_Code\": 1}, {\"Category_Code\": 3}, {\"Category_Code\": 1}, {\"Category_Code\": 4}, {\"Category_Code\": 4}, {\"Category_Code\": 1}, {\"Category_Code\": 4}, {\"Category_Code\": 1}, {\"Category_Code\": 3}, {\"Category_Code\": 2}, {\"Category_Code\": 0}, {\"Category_Code\": 0}, {\"Category_Code\": 4}, {\"Category_Code\": 1}, {\"Category_Code\": 2}, {\"Category_Code\": 0}, {\"Category_Code\": 1}, {\"Category_Code\": 4}, {\"Category_Code\": 0}, {\"Category_Code\": 1}, {\"Category_Code\": 3}, {\"Category_Code\": 0}, {\"Category_Code\": 4}, {\"Category_Code\": 4}, {\"Category_Code\": 1}, {\"Category_Code\": 3}, {\"Category_Code\": 2}, {\"Category_Code\": 2}, {\"Category_Code\": 3}, {\"Category_Code\": 0}, {\"Category_Code\": 0}, {\"Category_Code\": 1}, {\"Category_Code\": 4}, {\"Category_Code\": 0}, {\"Category_Code\": 2}, {\"Category_Code\": 1}, {\"Category_Code\": 3}, {\"Category_Code\": 0}, {\"Category_Code\": 3}, {\"Category_Code\": 3}, {\"Category_Code\": 4}, {\"Category_Code\": 1}, {\"Category_Code\": 0}, {\"Category_Code\": 1}, {\"Category_Code\": 2}, {\"Category_Code\": 0}, {\"Category_Code\": 3}, {\"Category_Code\": 0}, {\"Category_Code\": 4}, {\"Category_Code\": 2}, {\"Category_Code\": 1}, {\"Category_Code\": 0}, {\"Category_Code\": 0}, {\"Category_Code\": 0}, {\"Category_Code\": 3}, {\"Category_Code\": 1}, {\"Category_Code\": 2}, {\"Category_Code\": 0}, {\"Category_Code\": 3}, {\"Category_Code\": 2}, {\"Category_Code\": 3}, {\"Category_Code\": 1}, {\"Category_Code\": 1}, {\"Category_Code\": 4}, {\"Category_Code\": 0}, {\"Category_Code\": 3}, {\"Category_Code\": 4}, {\"Category_Code\": 4}, {\"Category_Code\": 2}, {\"Category_Code\": 4}, {\"Category_Code\": 2}, {\"Category_Code\": 1}, {\"Category_Code\": 1}, {\"Category_Code\": 1}, {\"Category_Code\": 0}, {\"Category_Code\": 1}, {\"Category_Code\": 3}, {\"Category_Code\": 1}, {\"Category_Code\": 3}, {\"Category_Code\": 0}, {\"Category_Code\": 4}, {\"Category_Code\": 1}, {\"Category_Code\": 3}, {\"Category_Code\": 3}, {\"Category_Code\": 2}, {\"Category_Code\": 1}, {\"Category_Code\": 4}, {\"Category_Code\": 1}, {\"Category_Code\": 3}, {\"Category_Code\": 3}, {\"Category_Code\": 2}, {\"Category_Code\": 2}, {\"Category_Code\": 3}, {\"Category_Code\": 2}, {\"Category_Code\": 4}, {\"Category_Code\": 1}, {\"Category_Code\": 3}, {\"Category_Code\": 3}, {\"Category_Code\": 0}, {\"Category_Code\": 2}, {\"Category_Code\": 1}, {\"Category_Code\": 0}, {\"Category_Code\": 3}, {\"Category_Code\": 4}, {\"Category_Code\": 0}, {\"Category_Code\": 1}, {\"Category_Code\": 1}, {\"Category_Code\": 1}, {\"Category_Code\": 2}, {\"Category_Code\": 4}, {\"Category_Code\": 2}, {\"Category_Code\": 1}, {\"Category_Code\": 4}, {\"Category_Code\": 4}, {\"Category_Code\": 2}, {\"Category_Code\": 0}, {\"Category_Code\": 3}, {\"Category_Code\": 1}, {\"Category_Code\": 0}, {\"Category_Code\": 1}, {\"Category_Code\": 3}, {\"Category_Code\": 0}, {\"Category_Code\": 1}, {\"Category_Code\": 3}, {\"Category_Code\": 0}, {\"Category_Code\": 3}, {\"Category_Code\": 2}, {\"Category_Code\": 1}, {\"Category_Code\": 0}, {\"Category_Code\": 4}, {\"Category_Code\": 0}, {\"Category_Code\": 4}, {\"Category_Code\": 0}, {\"Category_Code\": 3}, {\"Category_Code\": 3}, {\"Category_Code\": 2}, {\"Category_Code\": 2}, {\"Category_Code\": 1}, {\"Category_Code\": 2}, {\"Category_Code\": 0}, {\"Category_Code\": 1}, {\"Category_Code\": 1}, {\"Category_Code\": 2}, {\"Category_Code\": 0}, {\"Category_Code\": 4}, {\"Category_Code\": 1}, {\"Category_Code\": 4}, {\"Category_Code\": 3}, {\"Category_Code\": 0}, {\"Category_Code\": 0}, {\"Category_Code\": 2}, {\"Category_Code\": 2}, {\"Category_Code\": 2}, {\"Category_Code\": 0}, {\"Category_Code\": 3}, {\"Category_Code\": 0}, {\"Category_Code\": 1}, {\"Category_Code\": 3}, {\"Category_Code\": 3}, {\"Category_Code\": 2}, {\"Category_Code\": 4}, {\"Category_Code\": 3}, {\"Category_Code\": 1}, {\"Category_Code\": 2}, {\"Category_Code\": 2}, {\"Category_Code\": 2}, {\"Category_Code\": 4}, {\"Category_Code\": 2}, {\"Category_Code\": 3}, {\"Category_Code\": 0}, {\"Category_Code\": 4}, {\"Category_Code\": 1}, {\"Category_Code\": 4}, {\"Category_Code\": 2}, {\"Category_Code\": 3}, {\"Category_Code\": 1}, {\"Category_Code\": 0}, {\"Category_Code\": 1}, {\"Category_Code\": 3}, {\"Category_Code\": 1}, {\"Category_Code\": 4}, {\"Category_Code\": 0}, {\"Category_Code\": 0}, {\"Category_Code\": 3}, {\"Category_Code\": 1}, {\"Category_Code\": 1}, {\"Category_Code\": 1}, {\"Category_Code\": 0}, {\"Category_Code\": 0}, {\"Category_Code\": 3}, {\"Category_Code\": 4}, {\"Category_Code\": 2}, {\"Category_Code\": 3}, {\"Category_Code\": 3}, {\"Category_Code\": 4}, {\"Category_Code\": 1}, {\"Category_Code\": 4}, {\"Category_Code\": 1}, {\"Category_Code\": 0}, {\"Category_Code\": 0}, {\"Category_Code\": 4}, {\"Category_Code\": 3}, {\"Category_Code\": 4}, {\"Category_Code\": 0}, {\"Category_Code\": 3}, {\"Category_Code\": 2}, {\"Category_Code\": 4}, {\"Category_Code\": 2}, {\"Category_Code\": 0}, {\"Category_Code\": 3}, {\"Category_Code\": 3}, {\"Category_Code\": 4}, {\"Category_Code\": 1}, {\"Category_Code\": 2}, {\"Category_Code\": 1}, {\"Category_Code\": 2}, {\"Category_Code\": 0}, {\"Category_Code\": 4}, {\"Category_Code\": 1}, {\"Category_Code\": 0}, {\"Category_Code\": 3}, {\"Category_Code\": 0}, {\"Category_Code\": 3}, {\"Category_Code\": 4}, {\"Category_Code\": 3}, {\"Category_Code\": 1}, {\"Category_Code\": 0}, {\"Category_Code\": 2}, {\"Category_Code\": 4}, {\"Category_Code\": 0}, {\"Category_Code\": 0}, {\"Category_Code\": 2}, {\"Category_Code\": 2}, {\"Category_Code\": 1}, {\"Category_Code\": 2}, {\"Category_Code\": 4}, {\"Category_Code\": 4}, {\"Category_Code\": 2}, {\"Category_Code\": 2}, {\"Category_Code\": 1}, {\"Category_Code\": 2}, {\"Category_Code\": 0}, {\"Category_Code\": 0}, {\"Category_Code\": 3}, {\"Category_Code\": 0}, {\"Category_Code\": 2}, {\"Category_Code\": 0}, {\"Category_Code\": 3}, {\"Category_Code\": 4}, {\"Category_Code\": 0}, {\"Category_Code\": 3}, {\"Category_Code\": 0}, {\"Category_Code\": 0}, {\"Category_Code\": 1}, {\"Category_Code\": 0}, {\"Category_Code\": 3}, {\"Category_Code\": 0}, {\"Category_Code\": 4}, {\"Category_Code\": 4}, {\"Category_Code\": 1}, {\"Category_Code\": 0}, {\"Category_Code\": 3}, {\"Category_Code\": 0}, {\"Category_Code\": 0}, {\"Category_Code\": 0}, {\"Category_Code\": 3}, {\"Category_Code\": 4}, {\"Category_Code\": 0}, {\"Category_Code\": 3}, {\"Category_Code\": 2}, {\"Category_Code\": 0}, {\"Category_Code\": 0}, {\"Category_Code\": 4}, {\"Category_Code\": 2}, {\"Category_Code\": 1}, {\"Category_Code\": 1}, {\"Category_Code\": 3}, {\"Category_Code\": 2}, {\"Category_Code\": 4}, {\"Category_Code\": 2}, {\"Category_Code\": 3}, {\"Category_Code\": 0}, {\"Category_Code\": 4}, {\"Category_Code\": 3}, {\"Category_Code\": 3}, {\"Category_Code\": 2}, {\"Category_Code\": 1}, {\"Category_Code\": 0}, {\"Category_Code\": 1}, {\"Category_Code\": 1}, {\"Category_Code\": 0}, {\"Category_Code\": 4}, {\"Category_Code\": 4}, {\"Category_Code\": 3}, {\"Category_Code\": 4}, {\"Category_Code\": 1}, {\"Category_Code\": 4}, {\"Category_Code\": 2}, {\"Category_Code\": 3}, {\"Category_Code\": 1}, {\"Category_Code\": 2}, {\"Category_Code\": 0}, {\"Category_Code\": 2}, {\"Category_Code\": 3}, {\"Category_Code\": 2}, {\"Category_Code\": 3}, {\"Category_Code\": 3}, {\"Category_Code\": 1}, {\"Category_Code\": 3}, {\"Category_Code\": 2}, {\"Category_Code\": 4}, {\"Category_Code\": 3}, {\"Category_Code\": 2}, {\"Category_Code\": 1}, {\"Category_Code\": 3}, {\"Category_Code\": 3}, {\"Category_Code\": 4}, {\"Category_Code\": 3}, {\"Category_Code\": 4}, {\"Category_Code\": 2}, {\"Category_Code\": 4}, {\"Category_Code\": 0}, {\"Category_Code\": 3}, {\"Category_Code\": 4}, {\"Category_Code\": 4}, {\"Category_Code\": 4}, {\"Category_Code\": 0}, {\"Category_Code\": 0}, {\"Category_Code\": 3}, {\"Category_Code\": 3}, {\"Category_Code\": 4}, {\"Category_Code\": 1}, {\"Category_Code\": 4}, {\"Category_Code\": 3}, {\"Category_Code\": 1}, {\"Category_Code\": 2}, {\"Category_Code\": 1}, {\"Category_Code\": 2}, {\"Category_Code\": 0}, {\"Category_Code\": 0}, {\"Category_Code\": 2}, {\"Category_Code\": 0}, {\"Category_Code\": 0}, {\"Category_Code\": 0}, {\"Category_Code\": 2}, {\"Category_Code\": 3}, {\"Category_Code\": 3}, {\"Category_Code\": 0}, {\"Category_Code\": 2}, {\"Category_Code\": 4}, {\"Category_Code\": 0}, {\"Category_Code\": 0}, {\"Category_Code\": 4}, {\"Category_Code\": 2}, {\"Category_Code\": 4}, {\"Category_Code\": 4}, {\"Category_Code\": 1}, {\"Category_Code\": 3}, {\"Category_Code\": 4}, {\"Category_Code\": 4}, {\"Category_Code\": 4}, {\"Category_Code\": 0}, {\"Category_Code\": 2}, {\"Category_Code\": 4}, {\"Category_Code\": 3}, {\"Category_Code\": 3}, {\"Category_Code\": 0}, {\"Category_Code\": 4}, {\"Category_Code\": 2}, {\"Category_Code\": 4}, {\"Category_Code\": 2}, {\"Category_Code\": 1}, {\"Category_Code\": 3}, {\"Category_Code\": 2}, {\"Category_Code\": 1}, {\"Category_Code\": 2}, {\"Category_Code\": 0}, {\"Category_Code\": 0}, {\"Category_Code\": 0}, {\"Category_Code\": 2}, {\"Category_Code\": 2}, {\"Category_Code\": 4}, {\"Category_Code\": 1}, {\"Category_Code\": 3}, {\"Category_Code\": 4}, {\"Category_Code\": 4}, {\"Category_Code\": 3}, {\"Category_Code\": 1}, {\"Category_Code\": 0}, {\"Category_Code\": 1}, {\"Category_Code\": 4}, {\"Category_Code\": 3}, {\"Category_Code\": 0}, {\"Category_Code\": 0}, {\"Category_Code\": 3}, {\"Category_Code\": 0}, {\"Category_Code\": 0}, {\"Category_Code\": 0}, {\"Category_Code\": 3}, {\"Category_Code\": 1}, {\"Category_Code\": 1}, {\"Category_Code\": 4}, {\"Category_Code\": 3}, {\"Category_Code\": 0}, {\"Category_Code\": 0}, {\"Category_Code\": 0}, {\"Category_Code\": 3}, {\"Category_Code\": 3}, {\"Category_Code\": 4}, {\"Category_Code\": 3}, {\"Category_Code\": 2}, {\"Category_Code\": 2}, {\"Category_Code\": 4}, {\"Category_Code\": 4}, {\"Category_Code\": 1}, {\"Category_Code\": 4}, {\"Category_Code\": 0}, {\"Category_Code\": 3}, {\"Category_Code\": 4}, {\"Category_Code\": 1}, {\"Category_Code\": 1}, {\"Category_Code\": 1}, {\"Category_Code\": 0}, {\"Category_Code\": 3}, {\"Category_Code\": 0}, {\"Category_Code\": 4}, {\"Category_Code\": 2}, {\"Category_Code\": 4}, {\"Category_Code\": 3}, {\"Category_Code\": 3}, {\"Category_Code\": 3}, {\"Category_Code\": 4}, {\"Category_Code\": 4}, {\"Category_Code\": 3}, {\"Category_Code\": 1}, {\"Category_Code\": 1}, {\"Category_Code\": 3}, {\"Category_Code\": 0}, {\"Category_Code\": 0}, {\"Category_Code\": 1}, {\"Category_Code\": 0}, {\"Category_Code\": 1}, {\"Category_Code\": 2}, {\"Category_Code\": 3}, {\"Category_Code\": 0}, {\"Category_Code\": 3}, {\"Category_Code\": 4}, {\"Category_Code\": 1}, {\"Category_Code\": 3}, {\"Category_Code\": 1}, {\"Category_Code\": 4}, {\"Category_Code\": 4}, {\"Category_Code\": 4}, {\"Category_Code\": 3}, {\"Category_Code\": 0}, {\"Category_Code\": 3}, {\"Category_Code\": 1}, {\"Category_Code\": 1}, {\"Category_Code\": 0}, {\"Category_Code\": 4}, {\"Category_Code\": 4}, {\"Category_Code\": 4}, {\"Category_Code\": 4}, {\"Category_Code\": 0}, {\"Category_Code\": 0}, {\"Category_Code\": 2}, {\"Category_Code\": 1}, {\"Category_Code\": 3}, {\"Category_Code\": 0}, {\"Category_Code\": 3}, {\"Category_Code\": 1}, {\"Category_Code\": 2}, {\"Category_Code\": 4}, {\"Category_Code\": 0}, {\"Category_Code\": 3}, {\"Category_Code\": 1}, {\"Category_Code\": 2}, {\"Category_Code\": 0}, {\"Category_Code\": 3}, {\"Category_Code\": 2}, {\"Category_Code\": 3}, {\"Category_Code\": 4}, {\"Category_Code\": 3}, {\"Category_Code\": 4}, {\"Category_Code\": 0}, {\"Category_Code\": 3}, {\"Category_Code\": 0}, {\"Category_Code\": 4}, {\"Category_Code\": 3}, {\"Category_Code\": 2}, {\"Category_Code\": 2}, {\"Category_Code\": 0}, {\"Category_Code\": 0}, {\"Category_Code\": 2}, {\"Category_Code\": 4}, {\"Category_Code\": 4}, {\"Category_Code\": 3}, {\"Category_Code\": 4}, {\"Category_Code\": 3}, {\"Category_Code\": 1}, {\"Category_Code\": 3}, {\"Category_Code\": 4}, {\"Category_Code\": 0}, {\"Category_Code\": 1}, {\"Category_Code\": 4}, {\"Category_Code\": 4}, {\"Category_Code\": 3}, {\"Category_Code\": 4}, {\"Category_Code\": 0}, {\"Category_Code\": 4}, {\"Category_Code\": 3}, {\"Category_Code\": 0}, {\"Category_Code\": 3}, {\"Category_Code\": 3}, {\"Category_Code\": 1}, {\"Category_Code\": 3}, {\"Category_Code\": 1}, {\"Category_Code\": 2}, {\"Category_Code\": 1}, {\"Category_Code\": 4}, {\"Category_Code\": 3}, {\"Category_Code\": 4}, {\"Category_Code\": 2}, {\"Category_Code\": 3}, {\"Category_Code\": 0}, {\"Category_Code\": 3}, {\"Category_Code\": 2}, {\"Category_Code\": 1}, {\"Category_Code\": 2}, {\"Category_Code\": 4}, {\"Category_Code\": 3}, {\"Category_Code\": 2}, {\"Category_Code\": 1}, {\"Category_Code\": 1}, {\"Category_Code\": 1}, {\"Category_Code\": 4}, {\"Category_Code\": 2}, {\"Category_Code\": 2}, {\"Category_Code\": 3}, {\"Category_Code\": 4}, {\"Category_Code\": 0}, {\"Category_Code\": 0}, {\"Category_Code\": 1}, {\"Category_Code\": 2}, {\"Category_Code\": 0}, {\"Category_Code\": 3}, {\"Category_Code\": 3}, {\"Category_Code\": 0}, {\"Category_Code\": 4}, {\"Category_Code\": 0}, {\"Category_Code\": 1}, {\"Category_Code\": 4}, {\"Category_Code\": 0}, {\"Category_Code\": 3}, {\"Category_Code\": 3}, {\"Category_Code\": 0}, {\"Category_Code\": 0}, {\"Category_Code\": 1}, {\"Category_Code\": 1}, {\"Category_Code\": 2}, {\"Category_Code\": 3}, {\"Category_Code\": 0}, {\"Category_Code\": 3}, {\"Category_Code\": 2}, {\"Category_Code\": 1}, {\"Category_Code\": 1}, {\"Category_Code\": 0}, {\"Category_Code\": 3}, {\"Category_Code\": 2}, {\"Category_Code\": 3}, {\"Category_Code\": 0}, {\"Category_Code\": 0}, {\"Category_Code\": 4}, {\"Category_Code\": 4}, {\"Category_Code\": 0}, {\"Category_Code\": 4}, {\"Category_Code\": 1}, {\"Category_Code\": 1}, {\"Category_Code\": 4}, {\"Category_Code\": 0}, {\"Category_Code\": 1}, {\"Category_Code\": 0}, {\"Category_Code\": 2}, {\"Category_Code\": 0}, {\"Category_Code\": 1}, {\"Category_Code\": 0}, {\"Category_Code\": 2}, {\"Category_Code\": 4}, {\"Category_Code\": 2}, {\"Category_Code\": 0}, {\"Category_Code\": 0}, {\"Category_Code\": 3}, {\"Category_Code\": 4}, {\"Category_Code\": 0}, {\"Category_Code\": 4}, {\"Category_Code\": 1}, {\"Category_Code\": 2}, {\"Category_Code\": 0}, {\"Category_Code\": 2}, {\"Category_Code\": 4}, {\"Category_Code\": 4}, {\"Category_Code\": 4}, {\"Category_Code\": 4}, {\"Category_Code\": 3}, {\"Category_Code\": 1}, {\"Category_Code\": 1}, {\"Category_Code\": 3}, {\"Category_Code\": 2}, {\"Category_Code\": 0}, {\"Category_Code\": 3}, {\"Category_Code\": 3}, {\"Category_Code\": 1}, {\"Category_Code\": 3}, {\"Category_Code\": 3}, {\"Category_Code\": 0}, {\"Category_Code\": 0}, {\"Category_Code\": 0}, {\"Category_Code\": 2}, {\"Category_Code\": 4}, {\"Category_Code\": 3}, {\"Category_Code\": 2}, {\"Category_Code\": 3}, {\"Category_Code\": 4}, {\"Category_Code\": 3}, {\"Category_Code\": 0}, {\"Category_Code\": 1}, {\"Category_Code\": 4}, {\"Category_Code\": 3}, {\"Category_Code\": 2}, {\"Category_Code\": 2}, {\"Category_Code\": 2}, {\"Category_Code\": 2}, {\"Category_Code\": 3}, {\"Category_Code\": 0}, {\"Category_Code\": 3}, {\"Category_Code\": 1}, {\"Category_Code\": 4}, {\"Category_Code\": 0}, {\"Category_Code\": 0}, {\"Category_Code\": 3}, {\"Category_Code\": 0}, {\"Category_Code\": 1}, {\"Category_Code\": 1}, {\"Category_Code\": 0}, {\"Category_Code\": 4}, {\"Category_Code\": 0}, {\"Category_Code\": 2}, {\"Category_Code\": 0}, {\"Category_Code\": 2}, {\"Category_Code\": 4}, {\"Category_Code\": 0}, {\"Category_Code\": 0}, {\"Category_Code\": 4}, {\"Category_Code\": 0}, {\"Category_Code\": 3}, {\"Category_Code\": 2}, {\"Category_Code\": 4}, {\"Category_Code\": 2}, {\"Category_Code\": 0}, {\"Category_Code\": 3}, {\"Category_Code\": 4}, {\"Category_Code\": 3}, {\"Category_Code\": 0}, {\"Category_Code\": 4}, {\"Category_Code\": 1}, {\"Category_Code\": 2}, {\"Category_Code\": 4}, {\"Category_Code\": 1}, {\"Category_Code\": 0}, {\"Category_Code\": 3}, {\"Category_Code\": 0}, {\"Category_Code\": 4}, {\"Category_Code\": 3}, {\"Category_Code\": 1}, {\"Category_Code\": 1}, {\"Category_Code\": 0}, {\"Category_Code\": 3}, {\"Category_Code\": 4}, {\"Category_Code\": 0}, {\"Category_Code\": 1}, {\"Category_Code\": 1}, {\"Category_Code\": 2}, {\"Category_Code\": 3}, {\"Category_Code\": 4}, {\"Category_Code\": 0}, {\"Category_Code\": 1}, {\"Category_Code\": 3}, {\"Category_Code\": 1}, {\"Category_Code\": 2}, {\"Category_Code\": 2}, {\"Category_Code\": 2}, {\"Category_Code\": 3}, {\"Category_Code\": 0}, {\"Category_Code\": 0}, {\"Category_Code\": 1}, {\"Category_Code\": 4}, {\"Category_Code\": 2}, {\"Category_Code\": 2}, {\"Category_Code\": 2}, {\"Category_Code\": 1}, {\"Category_Code\": 3}, {\"Category_Code\": 3}, {\"Category_Code\": 2}, {\"Category_Code\": 1}, {\"Category_Code\": 4}, {\"Category_Code\": 3}, {\"Category_Code\": 2}, {\"Category_Code\": 1}, {\"Category_Code\": 0}, {\"Category_Code\": 0}, {\"Category_Code\": 1}, {\"Category_Code\": 3}, {\"Category_Code\": 0}, {\"Category_Code\": 0}, {\"Category_Code\": 2}, {\"Category_Code\": 3}, {\"Category_Code\": 2}, {\"Category_Code\": 1}, {\"Category_Code\": 4}, {\"Category_Code\": 0}, {\"Category_Code\": 4}, {\"Category_Code\": 1}, {\"Category_Code\": 4}, {\"Category_Code\": 4}, {\"Category_Code\": 4}, {\"Category_Code\": 0}, {\"Category_Code\": 0}, {\"Category_Code\": 2}, {\"Category_Code\": 2}, {\"Category_Code\": 3}, {\"Category_Code\": 1}, {\"Category_Code\": 0}, {\"Category_Code\": 3}, {\"Category_Code\": 3}, {\"Category_Code\": 1}, {\"Category_Code\": 0}, {\"Category_Code\": 2}, {\"Category_Code\": 2}, {\"Category_Code\": 2}, {\"Category_Code\": 4}, {\"Category_Code\": 2}, {\"Category_Code\": 4}, {\"Category_Code\": 3}, {\"Category_Code\": 4}, {\"Category_Code\": 1}, {\"Category_Code\": 3}, {\"Category_Code\": 3}, {\"Category_Code\": 0}, {\"Category_Code\": 4}, {\"Category_Code\": 4}, {\"Category_Code\": 0}, {\"Category_Code\": 1}, {\"Category_Code\": 1}, {\"Category_Code\": 3}, {\"Category_Code\": 0}, {\"Category_Code\": 1}, {\"Category_Code\": 3}, {\"Category_Code\": 1}, {\"Category_Code\": 0}, {\"Category_Code\": 4}, {\"Category_Code\": 3}, {\"Category_Code\": 0}, {\"Category_Code\": 3}, {\"Category_Code\": 2}, {\"Category_Code\": 0}, {\"Category_Code\": 4}, {\"Category_Code\": 0}, {\"Category_Code\": 1}, {\"Category_Code\": 3}, {\"Category_Code\": 3}, {\"Category_Code\": 2}, {\"Category_Code\": 2}, {\"Category_Code\": 3}, {\"Category_Code\": 3}, {\"Category_Code\": 0}, {\"Category_Code\": 4}, {\"Category_Code\": 2}, {\"Category_Code\": 2}, {\"Category_Code\": 3}, {\"Category_Code\": 1}, {\"Category_Code\": 1}, {\"Category_Code\": 2}, {\"Category_Code\": 1}, {\"Category_Code\": 4}, {\"Category_Code\": 1}, {\"Category_Code\": 3}, {\"Category_Code\": 3}, {\"Category_Code\": 3}, {\"Category_Code\": 3}, {\"Category_Code\": 4}, {\"Category_Code\": 0}, {\"Category_Code\": 4}, {\"Category_Code\": 2}, {\"Category_Code\": 3}, {\"Category_Code\": 0}, {\"Category_Code\": 3}, {\"Category_Code\": 0}, {\"Category_Code\": 2}, {\"Category_Code\": 1}, {\"Category_Code\": 1}, {\"Category_Code\": 0}, {\"Category_Code\": 2}, {\"Category_Code\": 4}, {\"Category_Code\": 3}, {\"Category_Code\": 0}, {\"Category_Code\": 3}, {\"Category_Code\": 1}, {\"Category_Code\": 2}, {\"Category_Code\": 3}, {\"Category_Code\": 3}, {\"Category_Code\": 2}, {\"Category_Code\": 2}, {\"Category_Code\": 1}, {\"Category_Code\": 2}, {\"Category_Code\": 2}, {\"Category_Code\": 3}, {\"Category_Code\": 1}, {\"Category_Code\": 1}, {\"Category_Code\": 4}, {\"Category_Code\": 4}, {\"Category_Code\": 2}, {\"Category_Code\": 0}, {\"Category_Code\": 1}, {\"Category_Code\": 2}, {\"Category_Code\": 2}, {\"Category_Code\": 0}, {\"Category_Code\": 1}, {\"Category_Code\": 2}, {\"Category_Code\": 2}, {\"Category_Code\": 3}, {\"Category_Code\": 2}, {\"Category_Code\": 2}, {\"Category_Code\": 2}, {\"Category_Code\": 3}, {\"Category_Code\": 3}, {\"Category_Code\": 1}, {\"Category_Code\": 1}, {\"Category_Code\": 3}, {\"Category_Code\": 0}, {\"Category_Code\": 2}, {\"Category_Code\": 3}, {\"Category_Code\": 4}, {\"Category_Code\": 3}, {\"Category_Code\": 2}, {\"Category_Code\": 0}, {\"Category_Code\": 3}, {\"Category_Code\": 2}, {\"Category_Code\": 0}, {\"Category_Code\": 3}, {\"Category_Code\": 4}, {\"Category_Code\": 1}, {\"Category_Code\": 3}, {\"Category_Code\": 2}, {\"Category_Code\": 3}, {\"Category_Code\": 3}, {\"Category_Code\": 0}, {\"Category_Code\": 3}, {\"Category_Code\": 0}, {\"Category_Code\": 1}, {\"Category_Code\": 0}, {\"Category_Code\": 0}, {\"Category_Code\": 3}, {\"Category_Code\": 4}, {\"Category_Code\": 2}, {\"Category_Code\": 1}, {\"Category_Code\": 3}, {\"Category_Code\": 3}, {\"Category_Code\": 2}, {\"Category_Code\": 1}, {\"Category_Code\": 4}, {\"Category_Code\": 2}, {\"Category_Code\": 4}, {\"Category_Code\": 3}, {\"Category_Code\": 0}, {\"Category_Code\": 2}, {\"Category_Code\": 0}, {\"Category_Code\": 3}, {\"Category_Code\": 1}, {\"Category_Code\": 0}, {\"Category_Code\": 0}, {\"Category_Code\": 0}, {\"Category_Code\": 2}, {\"Category_Code\": 2}, {\"Category_Code\": 1}, {\"Category_Code\": 3}, {\"Category_Code\": 0}, {\"Category_Code\": 1}, {\"Category_Code\": 3}, {\"Category_Code\": 4}, {\"Category_Code\": 4}, {\"Category_Code\": 2}, {\"Category_Code\": 2}, {\"Category_Code\": 4}, {\"Category_Code\": 0}, {\"Category_Code\": 2}, {\"Category_Code\": 1}, {\"Category_Code\": 2}, {\"Category_Code\": 3}, {\"Category_Code\": 0}, {\"Category_Code\": 1}, {\"Category_Code\": 2}, {\"Category_Code\": 4}, {\"Category_Code\": 3}, {\"Category_Code\": 3}, {\"Category_Code\": 1}, {\"Category_Code\": 3}, {\"Category_Code\": 1}, {\"Category_Code\": 4}, {\"Category_Code\": 1}, {\"Category_Code\": 3}, {\"Category_Code\": 0}, {\"Category_Code\": 2}, {\"Category_Code\": 2}, {\"Category_Code\": 2}, {\"Category_Code\": 2}, {\"Category_Code\": 0}, {\"Category_Code\": 3}, {\"Category_Code\": 3}, {\"Category_Code\": 0}, {\"Category_Code\": 4}, {\"Category_Code\": 2}, {\"Category_Code\": 2}, {\"Category_Code\": 1}, {\"Category_Code\": 2}, {\"Category_Code\": 2}, {\"Category_Code\": 1}, {\"Category_Code\": 3}, {\"Category_Code\": 3}, {\"Category_Code\": 1}, {\"Category_Code\": 4}, {\"Category_Code\": 3}, {\"Category_Code\": 2}, {\"Category_Code\": 0}, {\"Category_Code\": 1}, {\"Category_Code\": 4}, {\"Category_Code\": 3}, {\"Category_Code\": 1}, {\"Category_Code\": 2}, {\"Category_Code\": 1}, {\"Category_Code\": 0}, {\"Category_Code\": 0}, {\"Category_Code\": 4}, {\"Category_Code\": 4}, {\"Category_Code\": 0}, {\"Category_Code\": 1}, {\"Category_Code\": 4}, {\"Category_Code\": 1}, {\"Category_Code\": 4}, {\"Category_Code\": 3}, {\"Category_Code\": 3}, {\"Category_Code\": 4}, {\"Category_Code\": 1}, {\"Category_Code\": 2}, {\"Category_Code\": 0}, {\"Category_Code\": 3}, {\"Category_Code\": 3}, {\"Category_Code\": 0}, {\"Category_Code\": 3}, {\"Category_Code\": 2}, {\"Category_Code\": 2}, {\"Category_Code\": 3}, {\"Category_Code\": 4}, {\"Category_Code\": 0}, {\"Category_Code\": 0}, {\"Category_Code\": 2}, {\"Category_Code\": 3}, {\"Category_Code\": 1}, {\"Category_Code\": 4}, {\"Category_Code\": 1}, {\"Category_Code\": 1}, {\"Category_Code\": 0}, {\"Category_Code\": 0}, {\"Category_Code\": 3}, {\"Category_Code\": 3}, {\"Category_Code\": 4}, {\"Category_Code\": 0}, {\"Category_Code\": 4}, {\"Category_Code\": 2}, {\"Category_Code\": 1}, {\"Category_Code\": 1}, {\"Category_Code\": 0}, {\"Category_Code\": 0}, {\"Category_Code\": 3}, {\"Category_Code\": 4}, {\"Category_Code\": 2}, {\"Category_Code\": 4}, {\"Category_Code\": 0}, {\"Category_Code\": 1}, {\"Category_Code\": 1}, {\"Category_Code\": 0}, {\"Category_Code\": 0}, {\"Category_Code\": 1}, {\"Category_Code\": 2}, {\"Category_Code\": 4}, {\"Category_Code\": 4}, {\"Category_Code\": 3}, {\"Category_Code\": 4}, {\"Category_Code\": 2}, {\"Category_Code\": 4}, {\"Category_Code\": 4}, {\"Category_Code\": 3}, {\"Category_Code\": 0}]}}, {\"mode\": \"vega-lite\"});\n",
       "</script>"
      ],
      "text/plain": [
       "alt.LayerChart(...)"
      ]
     },
     "execution_count": 73,
     "metadata": {},
     "output_type": "execute_result"
    }
   ],
   "source": [
    "import altair as alt\n",
    "\n",
    "bars = alt.Chart(pd.DataFrame(y_train)).mark_bar(size=50).encode(\n",
    "    x=alt.X(\"Category_Code\"),\n",
    "    y=alt.Y(\"count():Q\", axis=alt.Axis(title='Number of articles')),\n",
    "    tooltip=[alt.Tooltip('count()', title='Number of articles'), 'Category_Code'],\n",
    "    color='Category_Code'\n",
    "\n",
    ")\n",
    "\n",
    "text = bars.mark_text(\n",
    "    align='center',\n",
    "    baseline='bottom',\n",
    ").encode(\n",
    "    text='count()'\n",
    ")\n",
    "\n",
    "(bars + text).interactive().properties(\n",
    "    height=300, \n",
    "    width=700,\n",
    "    title = \"Category Histogram in Training Data\",\n",
    ")\n"
   ]
  },
  {
   "cell_type": "code",
   "execution_count": 74,
   "metadata": {
    "scrolled": true
   },
   "outputs": [
    {
     "data": {
      "text/html": [
       "\n",
       "<div id=\"altair-viz-fa55d2ae79f54c2a980acfbb4a31b31d\"></div>\n",
       "<script type=\"text/javascript\">\n",
       "  (function(spec, embedOpt){\n",
       "    let outputDiv = document.currentScript.previousElementSibling;\n",
       "    if (outputDiv.id !== \"altair-viz-fa55d2ae79f54c2a980acfbb4a31b31d\") {\n",
       "      outputDiv = document.getElementById(\"altair-viz-fa55d2ae79f54c2a980acfbb4a31b31d\");\n",
       "    }\n",
       "    const paths = {\n",
       "      \"vega\": \"https://cdn.jsdelivr.net/npm//vega@5?noext\",\n",
       "      \"vega-lib\": \"https://cdn.jsdelivr.net/npm//vega-lib?noext\",\n",
       "      \"vega-lite\": \"https://cdn.jsdelivr.net/npm//vega-lite@4.8.1?noext\",\n",
       "      \"vega-embed\": \"https://cdn.jsdelivr.net/npm//vega-embed@6?noext\",\n",
       "    };\n",
       "\n",
       "    function loadScript(lib) {\n",
       "      return new Promise(function(resolve, reject) {\n",
       "        var s = document.createElement('script');\n",
       "        s.src = paths[lib];\n",
       "        s.async = true;\n",
       "        s.onload = () => resolve(paths[lib]);\n",
       "        s.onerror = () => reject(`Error loading script: ${paths[lib]}`);\n",
       "        document.getElementsByTagName(\"head\")[0].appendChild(s);\n",
       "      });\n",
       "    }\n",
       "\n",
       "    function showError(err) {\n",
       "      outputDiv.innerHTML = `<div class=\"error\" style=\"color:red;\">${err}</div>`;\n",
       "      throw err;\n",
       "    }\n",
       "\n",
       "    function displayChart(vegaEmbed) {\n",
       "      vegaEmbed(outputDiv, spec, embedOpt)\n",
       "        .catch(err => showError(`Javascript Error: ${err.message}<br>This usually means there's a typo in your chart specification. See the javascript console for the full traceback.`));\n",
       "    }\n",
       "\n",
       "    if(typeof define === \"function\" && define.amd) {\n",
       "      requirejs.config({paths});\n",
       "      require([\"vega-embed\"], displayChart, err => showError(`Error loading script: ${err.message}`));\n",
       "    } else if (typeof vegaEmbed === \"function\") {\n",
       "      displayChart(vegaEmbed);\n",
       "    } else {\n",
       "      loadScript(\"vega\")\n",
       "        .then(() => loadScript(\"vega-lite\"))\n",
       "        .then(() => loadScript(\"vega-embed\"))\n",
       "        .catch(showError)\n",
       "        .then(() => displayChart(vegaEmbed));\n",
       "    }\n",
       "  })({\"config\": {\"view\": {\"continuousWidth\": 400, \"continuousHeight\": 300}}, \"layer\": [{\"mark\": {\"type\": \"bar\", \"size\": 50}, \"encoding\": {\"color\": {\"type\": \"quantitative\", \"field\": \"Category_Code\"}, \"tooltip\": [{\"type\": \"quantitative\", \"aggregate\": \"count\", \"title\": \"Number of articles\"}, {\"type\": \"quantitative\", \"field\": \"Category_Code\"}], \"x\": {\"type\": \"quantitative\", \"field\": \"Category_Code\"}, \"y\": {\"type\": \"quantitative\", \"aggregate\": \"count\", \"axis\": {\"title\": \"Number of articles\"}}}, \"selection\": {\"selector010\": {\"type\": \"interval\", \"bind\": \"scales\", \"encodings\": [\"x\", \"y\"]}}}, {\"mark\": {\"type\": \"text\", \"align\": \"center\", \"baseline\": \"bottom\"}, \"encoding\": {\"color\": {\"type\": \"quantitative\", \"field\": \"Category_Code\"}, \"text\": {\"type\": \"quantitative\", \"aggregate\": \"count\"}, \"tooltip\": [{\"type\": \"quantitative\", \"aggregate\": \"count\", \"title\": \"Number of articles\"}, {\"type\": \"quantitative\", \"field\": \"Category_Code\"}], \"x\": {\"type\": \"quantitative\", \"field\": \"Category_Code\"}, \"y\": {\"type\": \"quantitative\", \"aggregate\": \"count\", \"axis\": {\"title\": \"Number of articles\"}}}}], \"data\": {\"name\": \"data-1660d6da707e52b7f368cb81120e999b\"}, \"height\": 300, \"title\": \"Category Histogram in Test Data\", \"width\": 700, \"$schema\": \"https://vega.github.io/schema/vega-lite/v4.8.1.json\", \"datasets\": {\"data-1660d6da707e52b7f368cb81120e999b\": [{\"Category_Code\": 3}, {\"Category_Code\": 2}, {\"Category_Code\": 0}, {\"Category_Code\": 0}, {\"Category_Code\": 0}, {\"Category_Code\": 0}, {\"Category_Code\": 1}, {\"Category_Code\": 0}, {\"Category_Code\": 3}, {\"Category_Code\": 3}, {\"Category_Code\": 2}, {\"Category_Code\": 1}, {\"Category_Code\": 3}, {\"Category_Code\": 4}, {\"Category_Code\": 2}, {\"Category_Code\": 0}, {\"Category_Code\": 4}, {\"Category_Code\": 3}, {\"Category_Code\": 2}, {\"Category_Code\": 4}, {\"Category_Code\": 3}, {\"Category_Code\": 0}, {\"Category_Code\": 1}, {\"Category_Code\": 3}, {\"Category_Code\": 3}, {\"Category_Code\": 0}, {\"Category_Code\": 4}, {\"Category_Code\": 0}, {\"Category_Code\": 4}, {\"Category_Code\": 3}, {\"Category_Code\": 2}, {\"Category_Code\": 4}, {\"Category_Code\": 4}, {\"Category_Code\": 1}, {\"Category_Code\": 1}, {\"Category_Code\": 0}, {\"Category_Code\": 2}, {\"Category_Code\": 4}, {\"Category_Code\": 2}, {\"Category_Code\": 4}, {\"Category_Code\": 0}, {\"Category_Code\": 3}, {\"Category_Code\": 3}, {\"Category_Code\": 1}, {\"Category_Code\": 0}, {\"Category_Code\": 1}, {\"Category_Code\": 3}, {\"Category_Code\": 2}, {\"Category_Code\": 2}, {\"Category_Code\": 4}, {\"Category_Code\": 4}, {\"Category_Code\": 1}, {\"Category_Code\": 0}, {\"Category_Code\": 2}, {\"Category_Code\": 1}, {\"Category_Code\": 1}, {\"Category_Code\": 3}, {\"Category_Code\": 0}, {\"Category_Code\": 2}, {\"Category_Code\": 4}, {\"Category_Code\": 2}, {\"Category_Code\": 4}, {\"Category_Code\": 0}, {\"Category_Code\": 0}, {\"Category_Code\": 2}, {\"Category_Code\": 4}, {\"Category_Code\": 1}, {\"Category_Code\": 2}, {\"Category_Code\": 2}, {\"Category_Code\": 4}, {\"Category_Code\": 4}, {\"Category_Code\": 0}, {\"Category_Code\": 3}, {\"Category_Code\": 3}, {\"Category_Code\": 2}, {\"Category_Code\": 3}, {\"Category_Code\": 3}, {\"Category_Code\": 1}, {\"Category_Code\": 4}, {\"Category_Code\": 0}, {\"Category_Code\": 4}, {\"Category_Code\": 4}, {\"Category_Code\": 2}, {\"Category_Code\": 4}, {\"Category_Code\": 2}, {\"Category_Code\": 4}, {\"Category_Code\": 3}, {\"Category_Code\": 4}, {\"Category_Code\": 1}, {\"Category_Code\": 0}, {\"Category_Code\": 0}, {\"Category_Code\": 2}, {\"Category_Code\": 2}, {\"Category_Code\": 1}, {\"Category_Code\": 1}, {\"Category_Code\": 0}, {\"Category_Code\": 4}, {\"Category_Code\": 1}, {\"Category_Code\": 0}, {\"Category_Code\": 0}, {\"Category_Code\": 2}, {\"Category_Code\": 2}, {\"Category_Code\": 4}, {\"Category_Code\": 3}, {\"Category_Code\": 0}, {\"Category_Code\": 2}, {\"Category_Code\": 0}, {\"Category_Code\": 3}, {\"Category_Code\": 3}, {\"Category_Code\": 3}, {\"Category_Code\": 2}, {\"Category_Code\": 2}, {\"Category_Code\": 3}, {\"Category_Code\": 2}, {\"Category_Code\": 2}, {\"Category_Code\": 0}, {\"Category_Code\": 4}, {\"Category_Code\": 2}, {\"Category_Code\": 3}, {\"Category_Code\": 2}, {\"Category_Code\": 0}, {\"Category_Code\": 2}, {\"Category_Code\": 4}, {\"Category_Code\": 0}, {\"Category_Code\": 0}, {\"Category_Code\": 1}, {\"Category_Code\": 0}, {\"Category_Code\": 3}, {\"Category_Code\": 4}, {\"Category_Code\": 1}, {\"Category_Code\": 4}, {\"Category_Code\": 3}, {\"Category_Code\": 0}, {\"Category_Code\": 3}, {\"Category_Code\": 2}, {\"Category_Code\": 4}, {\"Category_Code\": 3}, {\"Category_Code\": 2}, {\"Category_Code\": 1}, {\"Category_Code\": 0}, {\"Category_Code\": 3}, {\"Category_Code\": 1}, {\"Category_Code\": 3}, {\"Category_Code\": 0}, {\"Category_Code\": 3}, {\"Category_Code\": 0}, {\"Category_Code\": 1}, {\"Category_Code\": 1}, {\"Category_Code\": 2}, {\"Category_Code\": 1}, {\"Category_Code\": 3}, {\"Category_Code\": 0}, {\"Category_Code\": 2}, {\"Category_Code\": 4}, {\"Category_Code\": 3}, {\"Category_Code\": 2}, {\"Category_Code\": 3}, {\"Category_Code\": 4}, {\"Category_Code\": 0}, {\"Category_Code\": 2}, {\"Category_Code\": 0}, {\"Category_Code\": 0}, {\"Category_Code\": 3}, {\"Category_Code\": 3}, {\"Category_Code\": 3}, {\"Category_Code\": 0}, {\"Category_Code\": 2}, {\"Category_Code\": 3}, {\"Category_Code\": 0}, {\"Category_Code\": 3}, {\"Category_Code\": 0}, {\"Category_Code\": 0}, {\"Category_Code\": 3}, {\"Category_Code\": 1}, {\"Category_Code\": 3}, {\"Category_Code\": 1}, {\"Category_Code\": 2}, {\"Category_Code\": 2}, {\"Category_Code\": 3}, {\"Category_Code\": 2}, {\"Category_Code\": 1}, {\"Category_Code\": 0}, {\"Category_Code\": 2}, {\"Category_Code\": 4}, {\"Category_Code\": 3}, {\"Category_Code\": 1}, {\"Category_Code\": 0}, {\"Category_Code\": 4}, {\"Category_Code\": 1}, {\"Category_Code\": 2}, {\"Category_Code\": 2}, {\"Category_Code\": 2}, {\"Category_Code\": 0}, {\"Category_Code\": 3}, {\"Category_Code\": 3}, {\"Category_Code\": 4}, {\"Category_Code\": 4}, {\"Category_Code\": 4}, {\"Category_Code\": 1}, {\"Category_Code\": 0}, {\"Category_Code\": 4}, {\"Category_Code\": 2}, {\"Category_Code\": 0}, {\"Category_Code\": 4}, {\"Category_Code\": 4}, {\"Category_Code\": 4}, {\"Category_Code\": 4}, {\"Category_Code\": 4}, {\"Category_Code\": 3}, {\"Category_Code\": 3}, {\"Category_Code\": 0}, {\"Category_Code\": 2}, {\"Category_Code\": 1}, {\"Category_Code\": 0}, {\"Category_Code\": 2}, {\"Category_Code\": 3}, {\"Category_Code\": 2}, {\"Category_Code\": 0}, {\"Category_Code\": 4}, {\"Category_Code\": 0}, {\"Category_Code\": 0}, {\"Category_Code\": 0}, {\"Category_Code\": 3}, {\"Category_Code\": 0}, {\"Category_Code\": 4}, {\"Category_Code\": 4}, {\"Category_Code\": 3}, {\"Category_Code\": 2}, {\"Category_Code\": 3}, {\"Category_Code\": 0}, {\"Category_Code\": 2}, {\"Category_Code\": 3}, {\"Category_Code\": 3}, {\"Category_Code\": 3}, {\"Category_Code\": 2}, {\"Category_Code\": 0}, {\"Category_Code\": 1}, {\"Category_Code\": 3}, {\"Category_Code\": 2}, {\"Category_Code\": 0}, {\"Category_Code\": 1}, {\"Category_Code\": 1}, {\"Category_Code\": 0}, {\"Category_Code\": 2}, {\"Category_Code\": 4}, {\"Category_Code\": 3}, {\"Category_Code\": 2}, {\"Category_Code\": 4}, {\"Category_Code\": 0}, {\"Category_Code\": 0}, {\"Category_Code\": 1}, {\"Category_Code\": 2}, {\"Category_Code\": 3}, {\"Category_Code\": 1}, {\"Category_Code\": 3}, {\"Category_Code\": 3}, {\"Category_Code\": 1}, {\"Category_Code\": 0}, {\"Category_Code\": 3}, {\"Category_Code\": 0}, {\"Category_Code\": 4}, {\"Category_Code\": 1}, {\"Category_Code\": 3}, {\"Category_Code\": 0}, {\"Category_Code\": 1}, {\"Category_Code\": 3}, {\"Category_Code\": 4}, {\"Category_Code\": 2}, {\"Category_Code\": 2}, {\"Category_Code\": 4}, {\"Category_Code\": 2}, {\"Category_Code\": 4}, {\"Category_Code\": 1}, {\"Category_Code\": 3}, {\"Category_Code\": 2}, {\"Category_Code\": 3}, {\"Category_Code\": 0}, {\"Category_Code\": 4}, {\"Category_Code\": 2}, {\"Category_Code\": 1}, {\"Category_Code\": 4}, {\"Category_Code\": 0}, {\"Category_Code\": 3}, {\"Category_Code\": 3}, {\"Category_Code\": 1}, {\"Category_Code\": 3}, {\"Category_Code\": 4}, {\"Category_Code\": 0}, {\"Category_Code\": 0}, {\"Category_Code\": 2}, {\"Category_Code\": 2}, {\"Category_Code\": 1}, {\"Category_Code\": 1}, {\"Category_Code\": 1}, {\"Category_Code\": 0}, {\"Category_Code\": 2}, {\"Category_Code\": 0}, {\"Category_Code\": 4}, {\"Category_Code\": 4}, {\"Category_Code\": 2}, {\"Category_Code\": 3}, {\"Category_Code\": 2}, {\"Category_Code\": 0}, {\"Category_Code\": 3}, {\"Category_Code\": 1}, {\"Category_Code\": 0}, {\"Category_Code\": 2}, {\"Category_Code\": 1}, {\"Category_Code\": 3}, {\"Category_Code\": 4}, {\"Category_Code\": 0}, {\"Category_Code\": 0}, {\"Category_Code\": 1}, {\"Category_Code\": 0}, {\"Category_Code\": 0}, {\"Category_Code\": 0}, {\"Category_Code\": 2}, {\"Category_Code\": 4}, {\"Category_Code\": 2}, {\"Category_Code\": 2}, {\"Category_Code\": 1}, {\"Category_Code\": 0}, {\"Category_Code\": 0}, {\"Category_Code\": 2}, {\"Category_Code\": 3}, {\"Category_Code\": 4}, {\"Category_Code\": 2}, {\"Category_Code\": 2}, {\"Category_Code\": 0}, {\"Category_Code\": 0}, {\"Category_Code\": 3}, {\"Category_Code\": 0}, {\"Category_Code\": 4}, {\"Category_Code\": 1}]}}, {\"mode\": \"vega-lite\"});\n",
       "</script>"
      ],
      "text/plain": [
       "alt.LayerChart(...)"
      ]
     },
     "execution_count": 74,
     "metadata": {},
     "output_type": "execute_result"
    }
   ],
   "source": [
    "bars = alt.Chart(pd.DataFrame(y_test)).mark_bar(size=50).encode(\n",
    "    x=alt.X(\"Category_Code\"),\n",
    "    y=alt.Y(\"count():Q\", axis=alt.Axis(title='Number of articles')),\n",
    "    tooltip=[alt.Tooltip('count()', title='Number of articles'), 'Category_Code'],\n",
    "    color='Category_Code'\n",
    "\n",
    ")\n",
    "\n",
    "text = bars.mark_text(\n",
    "    align='center',\n",
    "    baseline='bottom',\n",
    ").encode(\n",
    "    text='count()'\n",
    ")\n",
    "\n",
    "(bars + text).interactive().properties(\n",
    "    height=300, \n",
    "    width=700,\n",
    "    title = \"Category Histogram in Test Data\",\n",
    ")"
   ]
  },
  {
   "cell_type": "markdown",
   "metadata": {},
   "source": [
    "## 4. Text representation"
   ]
  },
  {
   "cell_type": "markdown",
   "metadata": {},
   "source": [
    "We have various options:\n",
    "\n",
    "* Count Vectors as features\n",
    "* TF-IDF Vectors as features\n",
    "* Word Embeddings as features\n",
    "* Text / NLP based features\n",
    "* Topic Models as features"
   ]
  },
  {
   "cell_type": "markdown",
   "metadata": {},
   "source": [
    "We'll use **TF-IDF Vectors** as features."
   ]
  },
  {
   "cell_type": "markdown",
   "metadata": {},
   "source": [
    "We have to define the different parameters:\n",
    "\n",
    "* `ngram_range`: We want to consider both unigrams and bigrams.\n",
    "* `max_df`: When building the vocabulary ignore terms that have a document\n",
    "    frequency strictly higher than the given threshold\n",
    "* `min_df`: When building the vocabulary ignore terms that have a document\n",
    "    frequency strictly lower than the given threshold.\n",
    "* `max_features`: If not None, build a vocabulary that only consider the top\n",
    "    max_features ordered by term frequency across the corpus.\n",
    "\n",
    "See `TfidfVectorizer?` for further detail."
   ]
  },
  {
   "cell_type": "markdown",
   "metadata": {},
   "source": [
    "It needs to be mentioned that we are implicitly scaling our data when representing it as TF-IDF features with the argument `norm`."
   ]
  },
  {
   "cell_type": "code",
   "execution_count": 39,
   "metadata": {},
   "outputs": [],
   "source": [
    "# Parameter election\n",
    "ngram_range = (1,2)\n",
    "min_df = 10\n",
    "max_df = 1.\n",
    "max_features = 300"
   ]
  },
  {
   "cell_type": "markdown",
   "metadata": {},
   "source": [
    "We have chosen these values as a first approximation. Since the models that we develop later have a very good predictive power, we'll stick to these values. But it has to be mentioned that different combinations could be tried in order to improve even more the accuracy of the models."
   ]
  },
  {
   "cell_type": "code",
   "execution_count": 40,
   "metadata": {
    "scrolled": true
   },
   "outputs": [
    {
     "name": "stdout",
     "output_type": "stream",
     "text": [
      "(1891, 300)\n",
      "(334, 300)\n"
     ]
    }
   ],
   "source": [
    "tfidf = TfidfVectorizer(encoding='utf-8',\n",
    "                        ngram_range=ngram_range,\n",
    "                        stop_words=None,\n",
    "                        lowercase=False,\n",
    "                        max_df=max_df,\n",
    "                        min_df=min_df,\n",
    "                        max_features=max_features,\n",
    "                        norm='l2',\n",
    "                        sublinear_tf=True)\n",
    "                        \n",
    "features_train = tfidf.fit_transform(X_train).toarray()  # numpy.ndarray\n",
    "labels_train = y_train                                   # pandas.core.series.Series\n",
    "print(features_train.shape)\n",
    "\n",
    "features_test = tfidf.transform(X_test).toarray()\n",
    "labels_test = y_test\n",
    "print(features_test.shape)"
   ]
  },
  {
   "cell_type": "markdown",
   "metadata": {},
   "source": [
    "Please note that we have fitted and then transformed the training set, but we have **only transformed** the **test set**."
   ]
  },
  {
   "cell_type": "markdown",
   "metadata": {},
   "source": [
    "We can use the [Chi squared test](https://stattrek.com/chi-square-test/independence.aspx) in order to see what unigrams and bigrams are most correlated with each category.  \n",
    "Function [Reference](https://scikit-learn.org/stable/modules/generated/sklearn.feature_selection.chi2.html#sklearn.feature_selection.chi2)"
   ]
  },
  {
   "cell_type": "code",
   "execution_count": 41,
   "metadata": {},
   "outputs": [
    {
     "name": "stdout",
     "output_type": "stream",
     "text": [
      "# 'business' category:\n",
      "  . Most correlated unigrams:\n",
      ". firm\n",
      ". market\n",
      ". economy\n",
      ". growth\n",
      ". bank\n",
      "  . Most correlated bigrams:\n",
      ". last year\n",
      ". year old\n",
      "\n",
      "# 'entertainment' category:\n",
      "  . Most correlated unigrams:\n",
      ". best\n",
      ". music\n",
      ". star\n",
      ". award\n",
      ". film\n",
      "  . Most correlated bigrams:\n",
      ". mr blair\n",
      ". prime minister\n",
      "\n",
      "# 'politics' category:\n",
      "  . Most correlated unigrams:\n",
      ". blair\n",
      ". party\n",
      ". election\n",
      ". tory\n",
      ". labour\n",
      "  . Most correlated bigrams:\n",
      ". prime minister\n",
      ". mr blair\n",
      "\n",
      "# 'sport' category:\n",
      "  . Most correlated unigrams:\n",
      ". side\n",
      ". game\n",
      ". player\n",
      ". team\n",
      ". match\n",
      "  . Most correlated bigrams:\n",
      ". say mr\n",
      ". year old\n",
      "\n",
      "# 'tech' category:\n",
      "  . Most correlated unigrams:\n",
      ". mobile\n",
      ". software\n",
      ". technology\n",
      ". computer\n",
      ". user\n",
      "  . Most correlated bigrams:\n",
      ". year old\n",
      ". say mr\n",
      "\n"
     ]
    }
   ],
   "source": [
    "from sklearn.feature_selection import chi2\n",
    "import numpy as np\n",
    "\n",
    "for Product, category_id in sorted(category_codes.items()):\n",
    "    features_chi2 = chi2(features_train, labels_train == category_id)\n",
    "    indices = np.argsort(features_chi2[0])\n",
    "    feature_names = np.array(tfidf.get_feature_names())[indices]\n",
    "    unigrams = [v for v in feature_names if len(v.split(' ')) == 1]\n",
    "    bigrams = [v for v in feature_names if len(v.split(' ')) == 2]\n",
    "    print(\"# '{}' category:\".format(Product))\n",
    "    print(\"  . Most correlated unigrams:\\n. {}\".format('\\n. '.join(unigrams[-5:])))\n",
    "    print(\"  . Most correlated bigrams:\\n. {}\".format('\\n. '.join(bigrams[-2:])))\n",
    "    print(\"\")\n"
   ]
  },
  {
   "cell_type": "markdown",
   "metadata": {},
   "source": [
    "As we can see, the unigrams correspond well to their category. However, bigrams do not. If we get the bigrams in our features:"
   ]
  },
  {
   "cell_type": "code",
   "execution_count": 42,
   "metadata": {},
   "outputs": [
    {
     "data": {
      "text/plain": [
       "['tell bbc', 'last year', 'prime minister', 'mr blair', 'year old', 'say mr']"
      ]
     },
     "execution_count": 42,
     "metadata": {},
     "output_type": "execute_result"
    }
   ],
   "source": [
    "bigrams"
   ]
  },
  {
   "cell_type": "markdown",
   "metadata": {},
   "source": [
    "We can see there are only six. This means the unigrams have more correlation with the category than the bigrams, and since we're restricting the number of features to the most representative 300, only a few bigrams are being considered."
   ]
  },
  {
   "cell_type": "markdown",
   "metadata": {},
   "source": [
    "Let's save the files we'll need in the next steps:"
   ]
  },
  {
   "cell_type": "code",
   "execution_count": 43,
   "metadata": {},
   "outputs": [],
   "source": [
    "# X_train\n",
    "with open('Pickles/X_train.pickle', 'wb') as output:\n",
    "    pickle.dump(X_train, output)\n",
    "    \n",
    "# X_test    \n",
    "with open('Pickles/X_test.pickle', 'wb') as output:\n",
    "    pickle.dump(X_test, output)\n",
    "    \n",
    "# y_train\n",
    "with open('Pickles/y_train.pickle', 'wb') as output:\n",
    "    pickle.dump(y_train, output)\n",
    "    \n",
    "# y_test\n",
    "with open('Pickles/y_test.pickle', 'wb') as output:\n",
    "    pickle.dump(y_test, output)\n",
    "    \n",
    "# df\n",
    "with open('Pickles/df.pickle', 'wb') as output:\n",
    "    pickle.dump(df, output)\n",
    "    \n",
    "# features_train\n",
    "with open('Pickles/features_train.pickle', 'wb') as output:\n",
    "    pickle.dump(features_train, output)\n",
    "\n",
    "# labels_train\n",
    "with open('Pickles/labels_train.pickle', 'wb') as output:\n",
    "    pickle.dump(labels_train, output)\n",
    "\n",
    "# features_test\n",
    "with open('Pickles/features_test.pickle', 'wb') as output:\n",
    "    pickle.dump(features_test, output)\n",
    "\n",
    "# labels_test\n",
    "with open('Pickles/labels_test.pickle', 'wb') as output:\n",
    "    pickle.dump(labels_test, output)\n",
    "    \n",
    "# TF-IDF object\n",
    "with open('Pickles/tfidf.pickle', 'wb') as output:\n",
    "    pickle.dump(tfidf, output)"
   ]
  }
 ],
 "metadata": {
  "kernelspec": {
   "display_name": "Python 3",
   "language": "python",
   "name": "python3"
  },
  "language_info": {
   "codemirror_mode": {
    "name": "ipython",
    "version": 3
   },
   "file_extension": ".py",
   "mimetype": "text/x-python",
   "name": "python",
   "nbconvert_exporter": "python",
   "pygments_lexer": "ipython3",
   "version": "3.6.8"
  }
 },
 "nbformat": 4,
 "nbformat_minor": 2
}
